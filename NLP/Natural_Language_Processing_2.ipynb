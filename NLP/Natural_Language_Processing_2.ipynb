{
  "nbformat": 4,
  "nbformat_minor": 0,
  "metadata": {
    "colab": {
      "provenance": [],
      "authorship_tag": "ABX9TyMEO4EDYVv0if/2H7k3uXWB",
      "include_colab_link": true
    },
    "kernelspec": {
      "name": "python3",
      "display_name": "Python 3"
    },
    "language_info": {
      "name": "python"
    }
  },
  "cells": [
    {
      "cell_type": "markdown",
      "metadata": {
        "id": "view-in-github",
        "colab_type": "text"
      },
      "source": [
        "<a href=\"https://colab.research.google.com/github/meenamahanth/DataScience/blob/main/NLP/Natural_Language_Processing_2.ipynb\" target=\"_parent\"><img src=\"https://colab.research.google.com/assets/colab-badge.svg\" alt=\"Open In Colab\"/></a>"
      ]
    },
    {
      "cell_type": "markdown",
      "source": [
        "Setting the Versions that support Gensim Library"
      ],
      "metadata": {
        "id": "uSo0_fYumLSd"
      }
    },
    {
      "cell_type": "code",
      "source": [
        "pip install numpy==1.26.4 scipy==1.13.1 --no-deps   # These versions support the genism"
      ],
      "metadata": {
        "colab": {
          "base_uri": "https://localhost:8080/"
        },
        "id": "5Pj-eXPMC8mo",
        "outputId": "ede2002c-b0ad-4242-f01f-71c180bcc203"
      },
      "execution_count": 1,
      "outputs": [
        {
          "output_type": "stream",
          "name": "stdout",
          "text": [
            "Collecting numpy==1.26.4\n",
            "  Downloading numpy-1.26.4-cp311-cp311-manylinux_2_17_x86_64.manylinux2014_x86_64.whl.metadata (61 kB)\n",
            "\u001b[2K     \u001b[90m━━━━━━━━━━━━━━━━━━━━━━━━━━━━━━━━━━━━━━━\u001b[0m \u001b[32m61.0/61.0 kB\u001b[0m \u001b[31m598.9 kB/s\u001b[0m eta \u001b[36m0:00:00\u001b[0m\n",
            "\u001b[?25hCollecting scipy==1.13.1\n",
            "  Downloading scipy-1.13.1-cp311-cp311-manylinux_2_17_x86_64.manylinux2014_x86_64.whl.metadata (60 kB)\n",
            "\u001b[2K     \u001b[90m━━━━━━━━━━━━━━━━━━━━━━━━━━━━━━━━━━━━━━━━\u001b[0m \u001b[32m60.6/60.6 kB\u001b[0m \u001b[31m2.1 MB/s\u001b[0m eta \u001b[36m0:00:00\u001b[0m\n",
            "\u001b[?25hDownloading numpy-1.26.4-cp311-cp311-manylinux_2_17_x86_64.manylinux2014_x86_64.whl (18.3 MB)\n",
            "\u001b[2K   \u001b[90m━━━━━━━━━━━━━━━━━━━━━━━━━━━━━━━━━━━━━━━━\u001b[0m \u001b[32m18.3/18.3 MB\u001b[0m \u001b[31m55.4 MB/s\u001b[0m eta \u001b[36m0:00:00\u001b[0m\n",
            "\u001b[?25hDownloading scipy-1.13.1-cp311-cp311-manylinux_2_17_x86_64.manylinux2014_x86_64.whl (38.6 MB)\n",
            "\u001b[2K   \u001b[90m━━━━━━━━━━━━━━━━━━━━━━━━━━━━━━━━━━━━━━━━\u001b[0m \u001b[32m38.6/38.6 MB\u001b[0m \u001b[31m16.6 MB/s\u001b[0m eta \u001b[36m0:00:00\u001b[0m\n",
            "\u001b[?25hInstalling collected packages: scipy, numpy\n",
            "  Attempting uninstall: scipy\n",
            "    Found existing installation: scipy 1.15.3\n",
            "    Uninstalling scipy-1.15.3:\n",
            "      Successfully uninstalled scipy-1.15.3\n",
            "  Attempting uninstall: numpy\n",
            "    Found existing installation: numpy 2.0.2\n",
            "    Uninstalling numpy-2.0.2:\n",
            "      Successfully uninstalled numpy-2.0.2\n",
            "Successfully installed numpy-1.26.4 scipy-1.13.1\n"
          ]
        }
      ]
    },
    {
      "cell_type": "markdown",
      "source": [
        "Installing the gensim library where it contains the stopwords of 337"
      ],
      "metadata": {
        "id": "atQBMP504d1B"
      }
    },
    {
      "cell_type": "code",
      "source": [
        "!pip install gensim  # The next code cell automatically disconnect runtime"
      ],
      "metadata": {
        "colab": {
          "base_uri": "https://localhost:8080/"
        },
        "id": "Zm4qnaYOZpMI",
        "outputId": "c6fc3690-a8dd-475b-e08e-e58343e1db2f"
      },
      "execution_count": 2,
      "outputs": [
        {
          "output_type": "stream",
          "name": "stdout",
          "text": [
            "Collecting gensim\n",
            "  Downloading gensim-4.3.3-cp311-cp311-manylinux_2_17_x86_64.manylinux2014_x86_64.whl.metadata (8.1 kB)\n",
            "Requirement already satisfied: numpy<2.0,>=1.18.5 in /usr/local/lib/python3.11/dist-packages (from gensim) (1.26.4)\n",
            "Requirement already satisfied: scipy<1.14.0,>=1.7.0 in /usr/local/lib/python3.11/dist-packages (from gensim) (1.13.1)\n",
            "Requirement already satisfied: smart-open>=1.8.1 in /usr/local/lib/python3.11/dist-packages (from gensim) (7.1.0)\n",
            "Requirement already satisfied: wrapt in /usr/local/lib/python3.11/dist-packages (from smart-open>=1.8.1->gensim) (1.17.2)\n",
            "Downloading gensim-4.3.3-cp311-cp311-manylinux_2_17_x86_64.manylinux2014_x86_64.whl (26.7 MB)\n",
            "\u001b[2K   \u001b[90m━━━━━━━━━━━━━━━━━━━━━━━━━━━━━━━━━━━━━━━━\u001b[0m \u001b[32m26.7/26.7 MB\u001b[0m \u001b[31m48.1 MB/s\u001b[0m eta \u001b[36m0:00:00\u001b[0m\n",
            "\u001b[?25hInstalling collected packages: gensim\n",
            "Successfully installed gensim-4.3.3\n"
          ]
        }
      ]
    },
    {
      "cell_type": "code",
      "source": [
        "# To Disconnet the runtime and it automatically restart the session and run the next code lines\n",
        "import os\n",
        "os.kill(os.getpid(), 9)"
      ],
      "metadata": {
        "id": "jRg8dOYTYXfU"
      },
      "execution_count": null,
      "outputs": []
    },
    {
      "cell_type": "code",
      "source": [
        "# to run this cell and below,Run cell and below in Runtime tab\n",
        "import gensim\n",
        "from gensim.parsing.preprocessing import remove_stopwords"
      ],
      "metadata": {
        "id": "k830aT0RZ32M"
      },
      "execution_count": 1,
      "outputs": []
    },
    {
      "cell_type": "code",
      "source": [
        "gensim_stopwords = gensim.parsing.preprocessing.STOPWORDS\n",
        "len(gensim_stopwords)"
      ],
      "metadata": {
        "id": "gglTIfHtapPk",
        "colab": {
          "base_uri": "https://localhost:8080/"
        },
        "outputId": "e7357d51-df13-4dd2-c8cb-07f2718a1045"
      },
      "execution_count": 2,
      "outputs": [
        {
          "output_type": "execute_result",
          "data": {
            "text/plain": [
              "337"
            ]
          },
          "metadata": {},
          "execution_count": 2
        }
      ]
    },
    {
      "cell_type": "code",
      "source": [
        "print(list(gensim_stopwords))"
      ],
      "metadata": {
        "colab": {
          "base_uri": "https://localhost:8080/"
        },
        "id": "RafzuWyeGy0z",
        "outputId": "8907cfae-388b-4921-bcc3-7e15ad464c01"
      },
      "execution_count": 3,
      "outputs": [
        {
          "output_type": "stream",
          "name": "stdout",
          "text": [
            "['thereafter', 'km', 'sometime', 'his', 'across', 'therein', 'off', 'though', 'various', 'system', 'been', 'will', 'whenever', 'latterly', 'becoming', 'had', 'namely', 'well', 'front', 'because', 'is', 'us', 'please', 'through', 'kg', 'a', 'always', 'has', 'least', 'therefore', 'fifteen', 'around', 'must', 'ever', 'am', 'ours', 'via', 'beside', 'no', 'herein', 'when', 'thence', 'doesn', 'may', 'whereby', 'towards', 'nor', 'put', 'this', 'enough', 'used', 'down', 'about', 'quite', 'below', 'neither', 'fill', 'an', 'anyhow', 'call', 'someone', 'throughout', 'meanwhile', 'are', 'next', 'why', 'hereafter', 'just', 'you', 'perhaps', 'those', 'full', 'seem', 'were', 'etc', 'go', 'bottom', 'sixty', 'every', 'amoungst', 'co', 'fifty', 'anywhere', 'out', 'too', 'per', 'bill', 'not', 'how', 'latter', 'none', 'cannot', 'he', 'yet', 'until', 'one', 'before', 'whoever', 'become', 'did', 'among', 'several', 'hereupon', 'hundred', 'elsewhere', 'don', 'amongst', 'after', 'to', 'found', 'can', 'make', 'since', 'thereby', 'indeed', 'that', 'they', 'everything', 'further', 'within', 'anyway', 'already', 'see', 'their', 'although', 'back', 'each', 'by', 'anything', 'whatever', 'itself', 'many', 'beforehand', 'thick', 'behind', 'him', 'made', 'but', 'computer', 'nine', 'nobody', 'became', 'third', 'then', 'either', 'the', 'empty', 'side', 'otherwise', 'rather', 'yourself', 'doing', 'along', 'ten', 'cant', 'thus', 'regarding', 'only', 'much', 'there', 'hereby', 'formerly', 'wherever', 'seemed', 'sincere', 'all', 'afterwards', 'whereupon', 'besides', 'un', 'others', 'fire', 'with', 'which', 'due', 'these', 'hence', 'wherein', 'give', 'other', 'twelve', 'here', 'could', 'whose', 'whence', 'describe', 'i', 'cry', 'toward', 'even', 'have', 'mostly', 'find', 'de', 'whether', 'our', 'couldnt', 'whole', 'never', 'at', 'her', 'yours', 'any', 'forty', 'so', 'didn', 'some', 'under', 'alone', 'up', 'me', 're', 'mine', 'almost', 'interest', 'upon', 'amount', 'thin', 'ourselves', 'else', 'something', 'former', 'seems', 'be', 'eg', 'we', 'noone', 'four', 'being', 'whereafter', 'still', 'beyond', 'keep', 'myself', 'themselves', 'ltd', 'hers', 'unless', 'really', 'on', 'whom', 'six', 'its', 'same', 'of', 'ie', 'everywhere', 'more', 'without', 'most', 'very', 'inc', 'does', 'seeming', 'often', 'against', 'done', 'twenty', 'now', 'three', 'get', 'mill', 'onto', 'nowhere', 'eleven', 'also', 'into', 'two', 'whereas', 'say', 'do', 'them', 'where', 'last', 'herself', 'together', 'less', 'own', 'if', 'everyone', 'part', 'over', 'again', 'anyone', 'show', 'himself', 'yourselves', 'using', 'and', 'moreover', 'detail', 'first', 'thru', 'thereupon', 'take', 'con', 'once', 'as', 'she', 'somewhere', 'my', 'few', 'what', 'except', 'becomes', 'nothing', 'hasnt', 'eight', 'should', 'between', 'would', 'might', 'top', 'nevertheless', 'another', 'during', 'in', 'however', 'serious', 'such', 'than', 'both', 'name', 'from', 'or', 'above', 'while', 'who', 'five', 'sometimes', 'move', 'it', 'was', 'whither', 'your', 'somehow', 'for']\n"
          ]
        }
      ]
    },
    {
      "cell_type": "code",
      "source": [
        "text = \"\"\"Historians currently think that anatomically modern humans have been around for between 200,000 and 300,000 of the planet’s 4.5 billion years.\n",
        "And even though 200,000 years is less than one 20,000th of the history of the planet,\n",
        "it is still a very long time! For context, 200,000 years would represent at least 6,000 generations of your ancestors (your grandparents are only 2 generations from you).\n",
        "\"\"\""
      ],
      "metadata": {
        "id": "fKET3TtfGf5X"
      },
      "execution_count": 4,
      "outputs": []
    },
    {
      "cell_type": "code",
      "source": [
        "new_text = remove_stopwords(text)"
      ],
      "metadata": {
        "id": "WW3ibJ5kGwe5"
      },
      "execution_count": 5,
      "outputs": []
    },
    {
      "cell_type": "code",
      "source": [
        "print(\"Filtered Text :\",new_text)\n",
        "print(\"Old Length :\",len(text))\n",
        "print(\"New Length :\",len(new_text))  # It takes every particular thing so the old length is 400"
      ],
      "metadata": {
        "id": "_hkvQ1gFGwYY",
        "colab": {
          "base_uri": "https://localhost:8080/"
        },
        "outputId": "8ae0ba03-a089-414c-f7db-eaa8066d89ff"
      },
      "execution_count": 6,
      "outputs": [
        {
          "output_type": "stream",
          "name": "stdout",
          "text": [
            "Filtered Text : Historians currently think anatomically modern humans 200,000 300,000 planet’s 4.5 billion years. And 200,000 years 20,000th history planet, long time! For context, 200,000 years represent 6,000 generations ancestors (your grandparents 2 generations you).\n",
            "Old Length : 400\n",
            "New Length : 255\n"
          ]
        }
      ]
    },
    {
      "cell_type": "markdown",
      "source": [
        "Using sk-learn Library where it contains the stopwords of 318"
      ],
      "metadata": {
        "id": "yxia5rghnje2"
      }
    },
    {
      "cell_type": "code",
      "source": [
        "# Stop Words Removal using scikit-learn library\n",
        "from sklearn.feature_extraction.text import ENGLISH_STOP_WORDS"
      ],
      "metadata": {
        "id": "XSinbAiPHNtf"
      },
      "execution_count": 7,
      "outputs": []
    },
    {
      "cell_type": "code",
      "source": [
        "ENGLISH_STOP_WORDS"
      ],
      "metadata": {
        "id": "eTrvH0_FHvsq",
        "colab": {
          "base_uri": "https://localhost:8080/"
        },
        "outputId": "28446be7-0885-40df-b677-3a500251f275"
      },
      "execution_count": 8,
      "outputs": [
        {
          "output_type": "execute_result",
          "data": {
            "text/plain": [
              "frozenset({'a',\n",
              "           'about',\n",
              "           'above',\n",
              "           'across',\n",
              "           'after',\n",
              "           'afterwards',\n",
              "           'again',\n",
              "           'against',\n",
              "           'all',\n",
              "           'almost',\n",
              "           'alone',\n",
              "           'along',\n",
              "           'already',\n",
              "           'also',\n",
              "           'although',\n",
              "           'always',\n",
              "           'am',\n",
              "           'among',\n",
              "           'amongst',\n",
              "           'amoungst',\n",
              "           'amount',\n",
              "           'an',\n",
              "           'and',\n",
              "           'another',\n",
              "           'any',\n",
              "           'anyhow',\n",
              "           'anyone',\n",
              "           'anything',\n",
              "           'anyway',\n",
              "           'anywhere',\n",
              "           'are',\n",
              "           'around',\n",
              "           'as',\n",
              "           'at',\n",
              "           'back',\n",
              "           'be',\n",
              "           'became',\n",
              "           'because',\n",
              "           'become',\n",
              "           'becomes',\n",
              "           'becoming',\n",
              "           'been',\n",
              "           'before',\n",
              "           'beforehand',\n",
              "           'behind',\n",
              "           'being',\n",
              "           'below',\n",
              "           'beside',\n",
              "           'besides',\n",
              "           'between',\n",
              "           'beyond',\n",
              "           'bill',\n",
              "           'both',\n",
              "           'bottom',\n",
              "           'but',\n",
              "           'by',\n",
              "           'call',\n",
              "           'can',\n",
              "           'cannot',\n",
              "           'cant',\n",
              "           'co',\n",
              "           'con',\n",
              "           'could',\n",
              "           'couldnt',\n",
              "           'cry',\n",
              "           'de',\n",
              "           'describe',\n",
              "           'detail',\n",
              "           'do',\n",
              "           'done',\n",
              "           'down',\n",
              "           'due',\n",
              "           'during',\n",
              "           'each',\n",
              "           'eg',\n",
              "           'eight',\n",
              "           'either',\n",
              "           'eleven',\n",
              "           'else',\n",
              "           'elsewhere',\n",
              "           'empty',\n",
              "           'enough',\n",
              "           'etc',\n",
              "           'even',\n",
              "           'ever',\n",
              "           'every',\n",
              "           'everyone',\n",
              "           'everything',\n",
              "           'everywhere',\n",
              "           'except',\n",
              "           'few',\n",
              "           'fifteen',\n",
              "           'fifty',\n",
              "           'fill',\n",
              "           'find',\n",
              "           'fire',\n",
              "           'first',\n",
              "           'five',\n",
              "           'for',\n",
              "           'former',\n",
              "           'formerly',\n",
              "           'forty',\n",
              "           'found',\n",
              "           'four',\n",
              "           'from',\n",
              "           'front',\n",
              "           'full',\n",
              "           'further',\n",
              "           'get',\n",
              "           'give',\n",
              "           'go',\n",
              "           'had',\n",
              "           'has',\n",
              "           'hasnt',\n",
              "           'have',\n",
              "           'he',\n",
              "           'hence',\n",
              "           'her',\n",
              "           'here',\n",
              "           'hereafter',\n",
              "           'hereby',\n",
              "           'herein',\n",
              "           'hereupon',\n",
              "           'hers',\n",
              "           'herself',\n",
              "           'him',\n",
              "           'himself',\n",
              "           'his',\n",
              "           'how',\n",
              "           'however',\n",
              "           'hundred',\n",
              "           'i',\n",
              "           'ie',\n",
              "           'if',\n",
              "           'in',\n",
              "           'inc',\n",
              "           'indeed',\n",
              "           'interest',\n",
              "           'into',\n",
              "           'is',\n",
              "           'it',\n",
              "           'its',\n",
              "           'itself',\n",
              "           'keep',\n",
              "           'last',\n",
              "           'latter',\n",
              "           'latterly',\n",
              "           'least',\n",
              "           'less',\n",
              "           'ltd',\n",
              "           'made',\n",
              "           'many',\n",
              "           'may',\n",
              "           'me',\n",
              "           'meanwhile',\n",
              "           'might',\n",
              "           'mill',\n",
              "           'mine',\n",
              "           'more',\n",
              "           'moreover',\n",
              "           'most',\n",
              "           'mostly',\n",
              "           'move',\n",
              "           'much',\n",
              "           'must',\n",
              "           'my',\n",
              "           'myself',\n",
              "           'name',\n",
              "           'namely',\n",
              "           'neither',\n",
              "           'never',\n",
              "           'nevertheless',\n",
              "           'next',\n",
              "           'nine',\n",
              "           'no',\n",
              "           'nobody',\n",
              "           'none',\n",
              "           'noone',\n",
              "           'nor',\n",
              "           'not',\n",
              "           'nothing',\n",
              "           'now',\n",
              "           'nowhere',\n",
              "           'of',\n",
              "           'off',\n",
              "           'often',\n",
              "           'on',\n",
              "           'once',\n",
              "           'one',\n",
              "           'only',\n",
              "           'onto',\n",
              "           'or',\n",
              "           'other',\n",
              "           'others',\n",
              "           'otherwise',\n",
              "           'our',\n",
              "           'ours',\n",
              "           'ourselves',\n",
              "           'out',\n",
              "           'over',\n",
              "           'own',\n",
              "           'part',\n",
              "           'per',\n",
              "           'perhaps',\n",
              "           'please',\n",
              "           'put',\n",
              "           'rather',\n",
              "           're',\n",
              "           'same',\n",
              "           'see',\n",
              "           'seem',\n",
              "           'seemed',\n",
              "           'seeming',\n",
              "           'seems',\n",
              "           'serious',\n",
              "           'several',\n",
              "           'she',\n",
              "           'should',\n",
              "           'show',\n",
              "           'side',\n",
              "           'since',\n",
              "           'sincere',\n",
              "           'six',\n",
              "           'sixty',\n",
              "           'so',\n",
              "           'some',\n",
              "           'somehow',\n",
              "           'someone',\n",
              "           'something',\n",
              "           'sometime',\n",
              "           'sometimes',\n",
              "           'somewhere',\n",
              "           'still',\n",
              "           'such',\n",
              "           'system',\n",
              "           'take',\n",
              "           'ten',\n",
              "           'than',\n",
              "           'that',\n",
              "           'the',\n",
              "           'their',\n",
              "           'them',\n",
              "           'themselves',\n",
              "           'then',\n",
              "           'thence',\n",
              "           'there',\n",
              "           'thereafter',\n",
              "           'thereby',\n",
              "           'therefore',\n",
              "           'therein',\n",
              "           'thereupon',\n",
              "           'these',\n",
              "           'they',\n",
              "           'thick',\n",
              "           'thin',\n",
              "           'third',\n",
              "           'this',\n",
              "           'those',\n",
              "           'though',\n",
              "           'three',\n",
              "           'through',\n",
              "           'throughout',\n",
              "           'thru',\n",
              "           'thus',\n",
              "           'to',\n",
              "           'together',\n",
              "           'too',\n",
              "           'top',\n",
              "           'toward',\n",
              "           'towards',\n",
              "           'twelve',\n",
              "           'twenty',\n",
              "           'two',\n",
              "           'un',\n",
              "           'under',\n",
              "           'until',\n",
              "           'up',\n",
              "           'upon',\n",
              "           'us',\n",
              "           'very',\n",
              "           'via',\n",
              "           'was',\n",
              "           'we',\n",
              "           'well',\n",
              "           'were',\n",
              "           'what',\n",
              "           'whatever',\n",
              "           'when',\n",
              "           'whence',\n",
              "           'whenever',\n",
              "           'where',\n",
              "           'whereafter',\n",
              "           'whereas',\n",
              "           'whereby',\n",
              "           'wherein',\n",
              "           'whereupon',\n",
              "           'wherever',\n",
              "           'whether',\n",
              "           'which',\n",
              "           'while',\n",
              "           'whither',\n",
              "           'who',\n",
              "           'whoever',\n",
              "           'whole',\n",
              "           'whom',\n",
              "           'whose',\n",
              "           'why',\n",
              "           'will',\n",
              "           'with',\n",
              "           'within',\n",
              "           'without',\n",
              "           'would',\n",
              "           'yet',\n",
              "           'you',\n",
              "           'your',\n",
              "           'yours',\n",
              "           'yourself',\n",
              "           'yourselves'})"
            ]
          },
          "metadata": {},
          "execution_count": 8
        }
      ]
    },
    {
      "cell_type": "code",
      "source": [
        "len(ENGLISH_STOP_WORDS)"
      ],
      "metadata": {
        "id": "tWvvlKUxH3_S",
        "colab": {
          "base_uri": "https://localhost:8080/"
        },
        "outputId": "e8d10c60-1253-4644-a564-45fbde192637"
      },
      "execution_count": 9,
      "outputs": [
        {
          "output_type": "execute_result",
          "data": {
            "text/plain": [
              "318"
            ]
          },
          "metadata": {},
          "execution_count": 9
        }
      ]
    },
    {
      "cell_type": "code",
      "source": [
        "filtered_tokens = [word for word in text.split() if not word in ENGLISH_STOP_WORDS]\n",
        "print(\"Filtered text :\" ,filtered_tokens)\n",
        "print(\"Old Length :\",len(text))\n",
        "print(\"New Length :\",len(filtered_tokens))"
      ],
      "metadata": {
        "id": "3biLf4FIH5Xq",
        "colab": {
          "base_uri": "https://localhost:8080/"
        },
        "outputId": "d28f963f-1dad-4ebd-f7e5-97a2ff38de77"
      },
      "execution_count": 10,
      "outputs": [
        {
          "output_type": "stream",
          "name": "stdout",
          "text": [
            "Filtered text : ['Historians', 'currently', 'think', 'anatomically', 'modern', 'humans', '200,000', '300,000', 'planet’s', '4.5', 'billion', 'years.', 'And', '200,000', 'years', '20,000th', 'history', 'planet,', 'long', 'time!', 'For', 'context,', '200,000', 'years', 'represent', '6,000', 'generations', 'ancestors', '(your', 'grandparents', '2', 'generations', 'you).']\n",
            "Old Length : 400\n",
            "New Length : 33\n"
          ]
        }
      ]
    },
    {
      "cell_type": "markdown",
      "source": [
        "<h1> In scikit-learn library the stopwords defined in a frozenset i.e which it's immutable.so, we can't add or remove the stopwords in this library </h1>"
      ],
      "metadata": {
        "id": "ExgtFVe5oiM9"
      }
    },
    {
      "cell_type": "code",
      "source": [
        "print(ENGLISH_STOP_WORDS)  # It's in the frozenset"
      ],
      "metadata": {
        "id": "1yExDSBBIWHr",
        "colab": {
          "base_uri": "https://localhost:8080/"
        },
        "outputId": "8c073b15-969f-444c-e0f8-8f20b506d0b1"
      },
      "execution_count": 11,
      "outputs": [
        {
          "output_type": "stream",
          "name": "stdout",
          "text": [
            "frozenset({'thereafter', 'sometime', 'his', 'across', 'therein', 'off', 'though', 'system', 'been', 'will', 'whenever', 'latterly', 'becoming', 'had', 'namely', 'well', 'front', 'because', 'is', 'us', 'please', 'through', 'a', 'always', 'has', 'least', 'therefore', 'fifteen', 'around', 'ever', 'must', 'am', 'ours', 'via', 'beside', 'no', 'herein', 'when', 'thence', 'may', 'whereby', 'towards', 'nor', 'put', 'this', 'enough', 'down', 'about', 'below', 'neither', 'fill', 'an', 'anyhow', 'call', 'someone', 'throughout', 'meanwhile', 'are', 'next', 'why', 'hereafter', 'you', 'perhaps', 'those', 'full', 'seem', 'were', 'etc', 'go', 'bottom', 'sixty', 'every', 'amoungst', 'co', 'fifty', 'anywhere', 'out', 'too', 'per', 'bill', 'not', 'how', 'latter', 'none', 'cannot', 'he', 'yet', 'until', 'one', 'before', 'whoever', 'become', 'among', 'several', 'hereupon', 'hundred', 'elsewhere', 'amongst', 'after', 'to', 'can', 'found', 'since', 'thereby', 'indeed', 'that', 'they', 'everything', 'further', 'within', 'anyway', 'already', 'see', 'their', 'although', 'back', 'each', 'by', 'anything', 'whatever', 'itself', 'many', 'beforehand', 'thick', 'behind', 'him', 'made', 'but', 'nine', 'nobody', 'became', 'third', 'then', 'either', 'the', 'empty', 'side', 'otherwise', 'rather', 'yourself', 'along', 'cant', 'ten', 'thus', 'only', 'much', 'there', 'hereby', 'formerly', 'wherever', 'seemed', 'sincere', 'all', 'afterwards', 'whereupon', 'besides', 'un', 'others', 'fire', 'with', 'which', 'due', 'these', 'hence', 'wherein', 'give', 'other', 'twelve', 'here', 'could', 'whose', 'whence', 'describe', 'i', 'cry', 'toward', 'even', 'have', 'mostly', 'find', 'de', 'whether', 'couldnt', 'our', 'whole', 'never', 'at', 'her', 'yours', 'any', 'forty', 'so', 'some', 'under', 'alone', 'up', 'me', 're', 'mine', 'almost', 'interest', 'upon', 'amount', 'thin', 'else', 'ourselves', 'something', 'former', 'seems', 'be', 'eg', 'we', 'noone', 'four', 'being', 'whereafter', 'still', 'beyond', 'keep', 'myself', 'themselves', 'ltd', 'hers', 'on', 'whom', 'six', 'its', 'same', 'ie', 'of', 'everywhere', 'more', 'without', 'most', 'inc', 'very', 'often', 'against', 'seeming', 'done', 'twenty', 'now', 'three', 'get', 'mill', 'onto', 'nowhere', 'eleven', 'also', 'into', 'two', 'whereas', 'do', 'herself', 'them', 'last', 'where', 'together', 'less', 'own', 'if', 'everyone', 'part', 'over', 'again', 'anyone', 'show', 'himself', 'yourselves', 'and', 'moreover', 'detail', 'first', 'thru', 'take', 'thereupon', 'con', 'once', 'as', 'she', 'somewhere', 'my', 'few', 'except', 'becomes', 'what', 'nothing', 'hasnt', 'eight', 'should', 'between', 'would', 'might', 'top', 'nevertheless', 'another', 'during', 'in', 'however', 'serious', 'such', 'than', 'both', 'name', 'from', 'or', 'above', 'while', 'who', 'five', 'sometimes', 'move', 'it', 'was', 'whither', 'your', 'somehow', 'for'})\n"
          ]
        }
      ]
    },
    {
      "cell_type": "markdown",
      "source": [
        "<h1>Adding/Removing from default stopwords in gensim</h1>\n",
        "\n"
      ],
      "metadata": {
        "id": "Hu5WAXrMKThC"
      }
    },
    {
      "cell_type": "code",
      "source": [
        "from gensim.parsing.preprocessing import STOPWORDS\n",
        "gensim_stopwords = STOPWORDS.union(set(['example1','example2']))"
      ],
      "metadata": {
        "id": "tpJzBYSeNnnz"
      },
      "execution_count": 12,
      "outputs": []
    },
    {
      "cell_type": "code",
      "source": [
        "len(gensim_stopwords)"
      ],
      "metadata": {
        "id": "E3FauYVLOIcu",
        "colab": {
          "base_uri": "https://localhost:8080/"
        },
        "outputId": "c77a16fe-e167-4a02-80a6-6553dbbb3117"
      },
      "execution_count": 13,
      "outputs": [
        {
          "output_type": "execute_result",
          "data": {
            "text/plain": [
              "339"
            ]
          },
          "metadata": {},
          "execution_count": 13
        }
      ]
    },
    {
      "cell_type": "code",
      "source": [
        "gensim_stopwords = STOPWORDS.difference(set(['example1','example2']))"
      ],
      "metadata": {
        "id": "ajMJGBdiOJjF"
      },
      "execution_count": 14,
      "outputs": []
    },
    {
      "cell_type": "code",
      "source": [
        "len(gensim_stopwords)"
      ],
      "metadata": {
        "id": "xRqfhn_EOMvg",
        "colab": {
          "base_uri": "https://localhost:8080/"
        },
        "outputId": "63985b7d-d43e-4f28-db50-56760c0c2006"
      },
      "execution_count": 15,
      "outputs": [
        {
          "output_type": "execute_result",
          "data": {
            "text/plain": [
              "337"
            ]
          },
          "metadata": {},
          "execution_count": 15
        }
      ]
    }
  ]
}