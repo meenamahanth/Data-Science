{
  "nbformat": 4,
  "nbformat_minor": 0,
  "metadata": {
    "colab": {
      "provenance": [],
      "authorship_tag": "ABX9TyNkOOmLTs7gcBssQ5SHE4NL",
      "include_colab_link": true
    },
    "kernelspec": {
      "name": "python3",
      "display_name": "Python 3"
    },
    "language_info": {
      "name": "python"
    }
  },
  "cells": [
    {
      "cell_type": "markdown",
      "metadata": {
        "id": "view-in-github",
        "colab_type": "text"
      },
      "source": [
        "<a href=\"https://colab.research.google.com/github/meenamahanth/DataScience/blob/main/NLP/Natural_Language_Processing_1.ipynb\" target=\"_parent\"><img src=\"https://colab.research.google.com/assets/colab-badge.svg\" alt=\"Open In Colab\"/></a>"
      ]
    },
    {
      "cell_type": "markdown",
      "source": [
        "<h1>Stopwords in NLTK library is defined in list and in Spacy defined as sets i.e which it doesn't allow duplicates</h1>"
      ],
      "metadata": {
        "id": "8rMhmudR2oc4"
      }
    },
    {
      "cell_type": "markdown",
      "source": [
        "Stopwords Removal - common words i.e in a sentence it only keep words that makes sense <br> Ex- Your dress is good (into) Good dress or dress good"
      ],
      "metadata": {
        "id": "qp-sxzTbdKGm"
      }
    },
    {
      "cell_type": "markdown",
      "source": [
        "Installing Library NLTK where it contains the stopwords of 198"
      ],
      "metadata": {
        "id": "HSW0UYAbdtYY"
      }
    },
    {
      "cell_type": "code",
      "execution_count": 1,
      "metadata": {
        "colab": {
          "base_uri": "https://localhost:8080/"
        },
        "id": "K-mIDkDhc9-5",
        "outputId": "d0f3cde4-b0df-4996-b0a7-af1adff34907"
      },
      "outputs": [
        {
          "output_type": "stream",
          "name": "stdout",
          "text": [
            "Requirement already satisfied: nltk in /usr/local/lib/python3.11/dist-packages (3.9.1)\n",
            "Requirement already satisfied: click in /usr/local/lib/python3.11/dist-packages (from nltk) (8.2.1)\n",
            "Requirement already satisfied: joblib in /usr/local/lib/python3.11/dist-packages (from nltk) (1.5.0)\n",
            "Requirement already satisfied: regex>=2021.8.3 in /usr/local/lib/python3.11/dist-packages (from nltk) (2024.11.6)\n",
            "Requirement already satisfied: tqdm in /usr/local/lib/python3.11/dist-packages (from nltk) (4.67.1)\n"
          ]
        }
      ],
      "source": [
        "!pip install nltk"
      ]
    },
    {
      "cell_type": "markdown",
      "source": [
        "Importing Requirements"
      ],
      "metadata": {
        "id": "bRQeIhDLeIrj"
      }
    },
    {
      "cell_type": "code",
      "source": [
        "import nltk\n",
        "from nltk.corpus import stopwords  # corpus is a module\n",
        "nltk.download('stopwords')"
      ],
      "metadata": {
        "colab": {
          "base_uri": "https://localhost:8080/"
        },
        "id": "1HY-OETbd6L0",
        "outputId": "28228eea-5f1c-4699-b226-6dbc301e491f"
      },
      "execution_count": 2,
      "outputs": [
        {
          "output_type": "stream",
          "name": "stderr",
          "text": [
            "[nltk_data] Downloading package stopwords to /root/nltk_data...\n",
            "[nltk_data]   Unzipping corpora/stopwords.zip.\n"
          ]
        },
        {
          "output_type": "execute_result",
          "data": {
            "text/plain": [
              "True"
            ]
          },
          "metadata": {},
          "execution_count": 2
        }
      ]
    },
    {
      "cell_type": "markdown",
      "source": [
        "Only in english language"
      ],
      "metadata": {
        "id": "5Cy22yfVeWOb"
      }
    },
    {
      "cell_type": "code",
      "source": [
        "nltk_stopwords = nltk.corpus.stopwords.words('english')"
      ],
      "metadata": {
        "id": "OGDRJ0NheHqz"
      },
      "execution_count": 3,
      "outputs": []
    },
    {
      "cell_type": "code",
      "source": [
        "# Printing the list of stopwords in english which are already predefined\n",
        "print(\"List of stopwords in English: \\n%s\" %list(nltk_stopwords))"
      ],
      "metadata": {
        "colab": {
          "base_uri": "https://localhost:8080/"
        },
        "id": "LsDG3xkLeVpq",
        "outputId": "cca70a36-09cf-46fa-f6a0-4a20f73da240"
      },
      "execution_count": 4,
      "outputs": [
        {
          "output_type": "stream",
          "name": "stdout",
          "text": [
            "List of stopwords in English: \n",
            "['a', 'about', 'above', 'after', 'again', 'against', 'ain', 'all', 'am', 'an', 'and', 'any', 'are', 'aren', \"aren't\", 'as', 'at', 'be', 'because', 'been', 'before', 'being', 'below', 'between', 'both', 'but', 'by', 'can', 'couldn', \"couldn't\", 'd', 'did', 'didn', \"didn't\", 'do', 'does', 'doesn', \"doesn't\", 'doing', 'don', \"don't\", 'down', 'during', 'each', 'few', 'for', 'from', 'further', 'had', 'hadn', \"hadn't\", 'has', 'hasn', \"hasn't\", 'have', 'haven', \"haven't\", 'having', 'he', \"he'd\", \"he'll\", 'her', 'here', 'hers', 'herself', \"he's\", 'him', 'himself', 'his', 'how', 'i', \"i'd\", 'if', \"i'll\", \"i'm\", 'in', 'into', 'is', 'isn', \"isn't\", 'it', \"it'd\", \"it'll\", \"it's\", 'its', 'itself', \"i've\", 'just', 'll', 'm', 'ma', 'me', 'mightn', \"mightn't\", 'more', 'most', 'mustn', \"mustn't\", 'my', 'myself', 'needn', \"needn't\", 'no', 'nor', 'not', 'now', 'o', 'of', 'off', 'on', 'once', 'only', 'or', 'other', 'our', 'ours', 'ourselves', 'out', 'over', 'own', 're', 's', 'same', 'shan', \"shan't\", 'she', \"she'd\", \"she'll\", \"she's\", 'should', 'shouldn', \"shouldn't\", \"should've\", 'so', 'some', 'such', 't', 'than', 'that', \"that'll\", 'the', 'their', 'theirs', 'them', 'themselves', 'then', 'there', 'these', 'they', \"they'd\", \"they'll\", \"they're\", \"they've\", 'this', 'those', 'through', 'to', 'too', 'under', 'until', 'up', 've', 'very', 'was', 'wasn', \"wasn't\", 'we', \"we'd\", \"we'll\", \"we're\", 'were', 'weren', \"weren't\", \"we've\", 'what', 'when', 'where', 'which', 'while', 'who', 'whom', 'why', 'will', 'with', 'won', \"won't\", 'wouldn', \"wouldn't\", 'y', 'you', \"you'd\", \"you'll\", 'your', \"you're\", 'yours', 'yourself', 'yourselves', \"you've\"]\n"
          ]
        }
      ]
    },
    {
      "cell_type": "code",
      "source": [
        "# Printing the length of the stopwords\n",
        "print(\"Length of the stopwords: %d\" %len(nltk_stopwords))"
      ],
      "metadata": {
        "colab": {
          "base_uri": "https://localhost:8080/"
        },
        "id": "6P2vRf2FetUA",
        "outputId": "bee37adf-2b52-4dac-b35b-a9b1525bf5b6"
      },
      "execution_count": 5,
      "outputs": [
        {
          "output_type": "stream",
          "name": "stdout",
          "text": [
            "Length of the stopwords: 198\n"
          ]
        }
      ]
    },
    {
      "cell_type": "markdown",
      "source": [
        "Predefined languages in stopwords"
      ],
      "metadata": {
        "id": "YEids6EufbSH"
      }
    },
    {
      "cell_type": "code",
      "source": [
        "print(stopwords.fileids())"
      ],
      "metadata": {
        "colab": {
          "base_uri": "https://localhost:8080/"
        },
        "id": "L1P9tOqDfIb7",
        "outputId": "e9772454-b88a-446d-afbc-1a21710927ee"
      },
      "execution_count": 6,
      "outputs": [
        {
          "output_type": "stream",
          "name": "stdout",
          "text": [
            "['albanian', 'arabic', 'azerbaijani', 'basque', 'belarusian', 'bengali', 'catalan', 'chinese', 'danish', 'dutch', 'english', 'finnish', 'french', 'german', 'greek', 'hebrew', 'hinglish', 'hungarian', 'indonesian', 'italian', 'kazakh', 'nepali', 'norwegian', 'portuguese', 'romanian', 'russian', 'slovene', 'spanish', 'swedish', 'tajik', 'tamil', 'turkish']\n"
          ]
        }
      ]
    },
    {
      "cell_type": "code",
      "source": [
        "# Sample text\n",
        "text = \"\"\"Historians currently think that anatomically modern humans have been around for between 200,000 and 300,000 of the planet’s 4.5 billion years.\n",
        "And even though 200,000 years is less than one 20,000th of the history of the planet,\n",
        "it is still a very long time! For context, 200,000 years would represent at least 6,000 generations of your ancestors (your grandparents are only 2 generations from you).\n",
        "\"\"\""
      ],
      "metadata": {
        "id": "lyjd93FsfUo7"
      },
      "execution_count": 7,
      "outputs": []
    },
    {
      "cell_type": "markdown",
      "source": [
        "Package that contains stopwords"
      ],
      "metadata": {
        "id": "2_GKTpC7gU9V"
      }
    },
    {
      "cell_type": "code",
      "source": [
        "nltk.download('punkt_tab')"
      ],
      "metadata": {
        "colab": {
          "base_uri": "https://localhost:8080/"
        },
        "id": "QOF-sKoagKqQ",
        "outputId": "ccbf14fb-90bd-4a2a-f93e-b7ed72805b85"
      },
      "execution_count": 8,
      "outputs": [
        {
          "output_type": "stream",
          "name": "stderr",
          "text": [
            "[nltk_data] Downloading package punkt_tab to /root/nltk_data...\n",
            "[nltk_data]   Unzipping tokenizers/punkt_tab.zip.\n"
          ]
        },
        {
          "output_type": "execute_result",
          "data": {
            "text/plain": [
              "True"
            ]
          },
          "metadata": {},
          "execution_count": 8
        }
      ]
    },
    {
      "cell_type": "code",
      "source": [
        "# Tokenization\n",
        "tokens_nltk = nltk.word_tokenize(text)"
      ],
      "metadata": {
        "id": "UH-Tml_bf6Vg"
      },
      "execution_count": 9,
      "outputs": []
    },
    {
      "cell_type": "code",
      "source": [
        "tokens_nltk # Use print to get the words horizontally"
      ],
      "metadata": {
        "colab": {
          "base_uri": "https://localhost:8080/"
        },
        "id": "Ez4oQjb6gAbE",
        "outputId": "f6294f0a-f042-4c17-c051-f8cde943f4ef"
      },
      "execution_count": 10,
      "outputs": [
        {
          "output_type": "execute_result",
          "data": {
            "text/plain": [
              "['Historians',\n",
              " 'currently',\n",
              " 'think',\n",
              " 'that',\n",
              " 'anatomically',\n",
              " 'modern',\n",
              " 'humans',\n",
              " 'have',\n",
              " 'been',\n",
              " 'around',\n",
              " 'for',\n",
              " 'between',\n",
              " '200,000',\n",
              " 'and',\n",
              " '300,000',\n",
              " 'of',\n",
              " 'the',\n",
              " 'planet',\n",
              " '’',\n",
              " 's',\n",
              " '4.5',\n",
              " 'billion',\n",
              " 'years',\n",
              " '.',\n",
              " 'And',\n",
              " 'even',\n",
              " 'though',\n",
              " '200,000',\n",
              " 'years',\n",
              " 'is',\n",
              " 'less',\n",
              " 'than',\n",
              " 'one',\n",
              " '20,000th',\n",
              " 'of',\n",
              " 'the',\n",
              " 'history',\n",
              " 'of',\n",
              " 'the',\n",
              " 'planet',\n",
              " ',',\n",
              " 'it',\n",
              " 'is',\n",
              " 'still',\n",
              " 'a',\n",
              " 'very',\n",
              " 'long',\n",
              " 'time',\n",
              " '!',\n",
              " 'For',\n",
              " 'context',\n",
              " ',',\n",
              " '200,000',\n",
              " 'years',\n",
              " 'would',\n",
              " 'represent',\n",
              " 'at',\n",
              " 'least',\n",
              " '6,000',\n",
              " 'generations',\n",
              " 'of',\n",
              " 'your',\n",
              " 'ancestors',\n",
              " '(',\n",
              " 'your',\n",
              " 'grandparents',\n",
              " 'are',\n",
              " 'only',\n",
              " '2',\n",
              " 'generations',\n",
              " 'from',\n",
              " 'you',\n",
              " ')',\n",
              " '.']"
            ]
          },
          "metadata": {},
          "execution_count": 10
        }
      ]
    },
    {
      "cell_type": "code",
      "source": [
        "# Length of the tokens\n",
        "len(tokens_nltk)"
      ],
      "metadata": {
        "colab": {
          "base_uri": "https://localhost:8080/"
        },
        "id": "xM9nTGotgc9h",
        "outputId": "e1fcbe5e-a3db-4a19-df70-02ebd62774c2"
      },
      "execution_count": 11,
      "outputs": [
        {
          "output_type": "execute_result",
          "data": {
            "text/plain": [
              "74"
            ]
          },
          "metadata": {},
          "execution_count": 11
        }
      ]
    },
    {
      "cell_type": "code",
      "source": [
        "# Removing the stopwords\n",
        "filtered_tokens_NLTK = [word for word in tokens_nltk if word.lower() not in stopwords.words('english')] # Using the corpus stopword\n",
        "print(\"Original Tokens :\",tokens_nltk)\n",
        "print(\"Filtered Tokens :\",filtered_tokens_NLTK)\n",
        "print(\"Length of Original Tokens :\",len(tokens_nltk))\n",
        "print(\"Length of Filtered Tokens :\",len(filtered_tokens_NLTK))"
      ],
      "metadata": {
        "colab": {
          "base_uri": "https://localhost:8080/"
        },
        "id": "DF_W0lf7ggCH",
        "outputId": "2aebd867-c184-4e80-a462-9b07d40e6382"
      },
      "execution_count": 12,
      "outputs": [
        {
          "output_type": "stream",
          "name": "stdout",
          "text": [
            "Original Tokens : ['Historians', 'currently', 'think', 'that', 'anatomically', 'modern', 'humans', 'have', 'been', 'around', 'for', 'between', '200,000', 'and', '300,000', 'of', 'the', 'planet', '’', 's', '4.5', 'billion', 'years', '.', 'And', 'even', 'though', '200,000', 'years', 'is', 'less', 'than', 'one', '20,000th', 'of', 'the', 'history', 'of', 'the', 'planet', ',', 'it', 'is', 'still', 'a', 'very', 'long', 'time', '!', 'For', 'context', ',', '200,000', 'years', 'would', 'represent', 'at', 'least', '6,000', 'generations', 'of', 'your', 'ancestors', '(', 'your', 'grandparents', 'are', 'only', '2', 'generations', 'from', 'you', ')', '.']\n",
            "Filtered Tokens : ['Historians', 'currently', 'think', 'anatomically', 'modern', 'humans', 'around', '200,000', '300,000', 'planet', '’', '4.5', 'billion', 'years', '.', 'even', 'though', '200,000', 'years', 'less', 'one', '20,000th', 'history', 'planet', ',', 'still', 'long', 'time', '!', 'context', ',', '200,000', 'years', 'would', 'represent', 'least', '6,000', 'generations', 'ancestors', '(', 'grandparents', '2', 'generations', ')', '.']\n",
            "Length of Original Tokens : 74\n",
            "Length of Filtered Tokens : 45\n"
          ]
        }
      ]
    },
    {
      "cell_type": "markdown",
      "source": [
        "Another NLP Library called spacy which contains stopwords of 326"
      ],
      "metadata": {
        "id": "zDqrAN_hippq"
      }
    },
    {
      "cell_type": "code",
      "source": [
        "!pip install spacy"
      ],
      "metadata": {
        "colab": {
          "base_uri": "https://localhost:8080/"
        },
        "id": "QTbLqpl5hvtY",
        "outputId": "d498498b-a8a5-48c0-fcca-23e1bb75f7dc"
      },
      "execution_count": 13,
      "outputs": [
        {
          "output_type": "stream",
          "name": "stdout",
          "text": [
            "Requirement already satisfied: spacy in /usr/local/lib/python3.11/dist-packages (3.8.6)\n",
            "Requirement already satisfied: spacy-legacy<3.1.0,>=3.0.11 in /usr/local/lib/python3.11/dist-packages (from spacy) (3.0.12)\n",
            "Requirement already satisfied: spacy-loggers<2.0.0,>=1.0.0 in /usr/local/lib/python3.11/dist-packages (from spacy) (1.0.5)\n",
            "Requirement already satisfied: murmurhash<1.1.0,>=0.28.0 in /usr/local/lib/python3.11/dist-packages (from spacy) (1.0.12)\n",
            "Requirement already satisfied: cymem<2.1.0,>=2.0.2 in /usr/local/lib/python3.11/dist-packages (from spacy) (2.0.11)\n",
            "Requirement already satisfied: preshed<3.1.0,>=3.0.2 in /usr/local/lib/python3.11/dist-packages (from spacy) (3.0.9)\n",
            "Requirement already satisfied: thinc<8.4.0,>=8.3.4 in /usr/local/lib/python3.11/dist-packages (from spacy) (8.3.6)\n",
            "Requirement already satisfied: wasabi<1.2.0,>=0.9.1 in /usr/local/lib/python3.11/dist-packages (from spacy) (1.1.3)\n",
            "Requirement already satisfied: srsly<3.0.0,>=2.4.3 in /usr/local/lib/python3.11/dist-packages (from spacy) (2.5.1)\n",
            "Requirement already satisfied: catalogue<2.1.0,>=2.0.6 in /usr/local/lib/python3.11/dist-packages (from spacy) (2.0.10)\n",
            "Requirement already satisfied: weasel<0.5.0,>=0.1.0 in /usr/local/lib/python3.11/dist-packages (from spacy) (0.4.1)\n",
            "Requirement already satisfied: typer<1.0.0,>=0.3.0 in /usr/local/lib/python3.11/dist-packages (from spacy) (0.15.3)\n",
            "Requirement already satisfied: tqdm<5.0.0,>=4.38.0 in /usr/local/lib/python3.11/dist-packages (from spacy) (4.67.1)\n",
            "Requirement already satisfied: numpy>=1.19.0 in /usr/local/lib/python3.11/dist-packages (from spacy) (2.0.2)\n",
            "Requirement already satisfied: requests<3.0.0,>=2.13.0 in /usr/local/lib/python3.11/dist-packages (from spacy) (2.32.3)\n",
            "Requirement already satisfied: pydantic!=1.8,!=1.8.1,<3.0.0,>=1.7.4 in /usr/local/lib/python3.11/dist-packages (from spacy) (2.11.4)\n",
            "Requirement already satisfied: jinja2 in /usr/local/lib/python3.11/dist-packages (from spacy) (3.1.6)\n",
            "Requirement already satisfied: setuptools in /usr/local/lib/python3.11/dist-packages (from spacy) (75.2.0)\n",
            "Requirement already satisfied: packaging>=20.0 in /usr/local/lib/python3.11/dist-packages (from spacy) (24.2)\n",
            "Requirement already satisfied: langcodes<4.0.0,>=3.2.0 in /usr/local/lib/python3.11/dist-packages (from spacy) (3.5.0)\n",
            "Requirement already satisfied: language-data>=1.2 in /usr/local/lib/python3.11/dist-packages (from langcodes<4.0.0,>=3.2.0->spacy) (1.3.0)\n",
            "Requirement already satisfied: annotated-types>=0.6.0 in /usr/local/lib/python3.11/dist-packages (from pydantic!=1.8,!=1.8.1,<3.0.0,>=1.7.4->spacy) (0.7.0)\n",
            "Requirement already satisfied: pydantic-core==2.33.2 in /usr/local/lib/python3.11/dist-packages (from pydantic!=1.8,!=1.8.1,<3.0.0,>=1.7.4->spacy) (2.33.2)\n",
            "Requirement already satisfied: typing-extensions>=4.12.2 in /usr/local/lib/python3.11/dist-packages (from pydantic!=1.8,!=1.8.1,<3.0.0,>=1.7.4->spacy) (4.13.2)\n",
            "Requirement already satisfied: typing-inspection>=0.4.0 in /usr/local/lib/python3.11/dist-packages (from pydantic!=1.8,!=1.8.1,<3.0.0,>=1.7.4->spacy) (0.4.1)\n",
            "Requirement already satisfied: charset-normalizer<4,>=2 in /usr/local/lib/python3.11/dist-packages (from requests<3.0.0,>=2.13.0->spacy) (3.4.2)\n",
            "Requirement already satisfied: idna<4,>=2.5 in /usr/local/lib/python3.11/dist-packages (from requests<3.0.0,>=2.13.0->spacy) (3.10)\n",
            "Requirement already satisfied: urllib3<3,>=1.21.1 in /usr/local/lib/python3.11/dist-packages (from requests<3.0.0,>=2.13.0->spacy) (2.4.0)\n",
            "Requirement already satisfied: certifi>=2017.4.17 in /usr/local/lib/python3.11/dist-packages (from requests<3.0.0,>=2.13.0->spacy) (2025.4.26)\n",
            "Requirement already satisfied: blis<1.4.0,>=1.3.0 in /usr/local/lib/python3.11/dist-packages (from thinc<8.4.0,>=8.3.4->spacy) (1.3.0)\n",
            "Requirement already satisfied: confection<1.0.0,>=0.0.1 in /usr/local/lib/python3.11/dist-packages (from thinc<8.4.0,>=8.3.4->spacy) (0.1.5)\n",
            "Requirement already satisfied: click>=8.0.0 in /usr/local/lib/python3.11/dist-packages (from typer<1.0.0,>=0.3.0->spacy) (8.2.1)\n",
            "Requirement already satisfied: shellingham>=1.3.0 in /usr/local/lib/python3.11/dist-packages (from typer<1.0.0,>=0.3.0->spacy) (1.5.4)\n",
            "Requirement already satisfied: rich>=10.11.0 in /usr/local/lib/python3.11/dist-packages (from typer<1.0.0,>=0.3.0->spacy) (13.9.4)\n",
            "Requirement already satisfied: cloudpathlib<1.0.0,>=0.7.0 in /usr/local/lib/python3.11/dist-packages (from weasel<0.5.0,>=0.1.0->spacy) (0.21.1)\n",
            "Requirement already satisfied: smart-open<8.0.0,>=5.2.1 in /usr/local/lib/python3.11/dist-packages (from weasel<0.5.0,>=0.1.0->spacy) (7.1.0)\n",
            "Requirement already satisfied: MarkupSafe>=2.0 in /usr/local/lib/python3.11/dist-packages (from jinja2->spacy) (3.0.2)\n",
            "Requirement already satisfied: marisa-trie>=1.1.0 in /usr/local/lib/python3.11/dist-packages (from language-data>=1.2->langcodes<4.0.0,>=3.2.0->spacy) (1.2.1)\n",
            "Requirement already satisfied: markdown-it-py>=2.2.0 in /usr/local/lib/python3.11/dist-packages (from rich>=10.11.0->typer<1.0.0,>=0.3.0->spacy) (3.0.0)\n",
            "Requirement already satisfied: pygments<3.0.0,>=2.13.0 in /usr/local/lib/python3.11/dist-packages (from rich>=10.11.0->typer<1.0.0,>=0.3.0->spacy) (2.19.1)\n",
            "Requirement already satisfied: wrapt in /usr/local/lib/python3.11/dist-packages (from smart-open<8.0.0,>=5.2.1->weasel<0.5.0,>=0.1.0->spacy) (1.17.2)\n",
            "Requirement already satisfied: mdurl~=0.1 in /usr/local/lib/python3.11/dist-packages (from markdown-it-py>=2.2.0->rich>=10.11.0->typer<1.0.0,>=0.3.0->spacy) (0.1.2)\n"
          ]
        }
      ]
    },
    {
      "cell_type": "markdown",
      "source": [
        "Importing library"
      ],
      "metadata": {
        "id": "CovGqsXyixwu"
      }
    },
    {
      "cell_type": "code",
      "source": [
        "import spacy\n",
        "spacy_nlp = spacy.load('en_core_web_sm')"
      ],
      "metadata": {
        "id": "W_AaukIQiuSN"
      },
      "execution_count": 14,
      "outputs": []
    },
    {
      "cell_type": "code",
      "source": [
        "spacy_stopwords = spacy.lang.en.stop_words.STOP_WORDS"
      ],
      "metadata": {
        "id": "CZnhjU2vi4MK"
      },
      "execution_count": 15,
      "outputs": []
    },
    {
      "cell_type": "code",
      "source": [
        "print(\"List of stopwords in English: \\n%s\" %list(spacy_stopwords))"
      ],
      "metadata": {
        "colab": {
          "base_uri": "https://localhost:8080/"
        },
        "id": "D-h5McExjCF8",
        "outputId": "9d7de400-d751-46a2-cdcc-438189c14eb4"
      },
      "execution_count": 16,
      "outputs": [
        {
          "output_type": "stream",
          "name": "stdout",
          "text": [
            "List of stopwords in English: \n",
            "['must', 'your', 'four', 'elsewhere', 'their', 'anything', 'some', 'nobody', '‘m', 'become', 'nevertheless', 'go', 'above', 'he', 'via', 'without', 'down', 'own', 'through', 'more', 'whether', 'already', 'our', 'an', 'put', 'against', 'another', 'often', 'formerly', 'ourselves', 'others', 'its', 'most', 'somewhere', 'make', 'will', 'unless', 'before', 'three', 'into', 'somehow', 'empty', 'again', 'us', 'made', 'we', 'first', 'together', 'was', 'in', 'due', 'yet', 'very', 'than', 'had', 'six', 'seems', 'thereby', 'few', 'also', 'one', 'everywhere', 'during', 'becoming', 'could', 'by', 'within', 'are', 'except', 'thereupon', 'something', 'quite', 'been', 'yourself', 'much', 'whereupon', 'did', 'me', 'should', 'whither', 'namely', 'either', 'itself', 'now', 'wherein', 'along', 'such', 'further', 'fifteen', 'even', 'below', 'well', 'what', 'say', \"'ll\", 'perhaps', 'five', 'out', 'so', 'wherever', 'with', 'beforehand', 'over', 'really', 'seeming', 'take', 'enough', 'almost', 'seem', 'forty', 'noone', 'everything', '‘re', 'afterwards', 'latter', 'see', 'side', 'ours', 'under', 'thru', 'nothing', 'doing', 'throughout', 'on', 'after', 'call', 'can', 'same', 'were', 'off', 'where', '‘ve', 'and', 'none', 'seemed', '’d', 'ca', 'around', 'nowhere', 'has', 'too', \"'ve\", 'whole', 'show', 'i', 'might', 'the', 'give', 'ever', 'please', 'yours', 'still', '‘d', 'get', '’s', 'onto', 'next', 'becomes', 'rather', \"'m\", 'least', '’re', 'anywhere', 'back', 'third', 'behind', 'them', 'any', 'else', 'anyhow', 'amount', 'am', 'thus', 'sometimes', 'anyway', 'it', 'name', 'which', 'being', 'him', 'there', 'fifty', 'a', 'all', 'n‘t', 'thereafter', 'who', 'or', 'besides', 'you', 'they', 'various', 'always', 'beside', 'this', 'other', 'whenever', 'across', 'for', 'how', 'whose', 'of', 'himself', 'mine', 'up', 'two', 'among', 'alone', 'that', 'upon', 'nor', 'bottom', 'although', 'whom', 'though', 'per', 'yourselves', 'amongst', '‘ll', 'her', 'myself', 'hereafter', 'as', 'neither', 'cannot', 're', 'serious', '‘s', 'only', 'every', 'hundred', 'both', 'never', 'to', 'hereupon', 'n’t', 'if', 'once', 'just', 'hers', 'each', 'whoever', 'between', 'herein', 'here', 'many', \"'re\", 'former', 'someone', 'toward', 'sixty', 'may', 'ten', 'meanwhile', 'twelve', 'when', 'while', 'these', 'whatever', 'front', \"'s\", \"'d\", 'whence', '’m', 'his', 'have', 'several', \"n't\", 'do', 'is', 'thence', 'twenty', 'therefore', 'sometime', 'done', 'moreover', 'top', 'beyond', 'whereafter', 'does', '’ve', 'full', 'not', 'herself', '’ll', 'however', 'no', 'otherwise', 'she', 'at', 'be', 'about', 'part', 'then', 'whereas', 'hence', 'would', 'towards', 'because', 'but', 'eight', 'my', 'latterly', 'whereby', 'eleven', 'used', 'move', 'until', 'indeed', 'why', 'less', 'regarding', 'hereby', 'those', 'last', 'therein', 'from', 'mostly', 'nine', 'became', 'since', 'keep', 'using', 'themselves', 'anyone', 'everyone']\n"
          ]
        }
      ]
    },
    {
      "cell_type": "code",
      "source": [
        "#Length of the Stopwords\n",
        "print(\"Length of the stopwords: %d\" %len(spacy_stopwords))"
      ],
      "metadata": {
        "colab": {
          "base_uri": "https://localhost:8080/"
        },
        "id": "UnSNql_EjYmG",
        "outputId": "9cce533f-d382-423d-efda-255dcd39a804"
      },
      "execution_count": 17,
      "outputs": [
        {
          "output_type": "stream",
          "name": "stdout",
          "text": [
            "Length of the stopwords: 326\n"
          ]
        }
      ]
    },
    {
      "cell_type": "code",
      "source": [
        "doc = spacy_nlp(text)"
      ],
      "metadata": {
        "id": "BHVE9oERjcu0"
      },
      "execution_count": 18,
      "outputs": []
    },
    {
      "cell_type": "code",
      "source": [
        "# Tokenization\n",
        "tokens_spacy = [token.text for token in doc]\n",
        "tokens_spacy"
      ],
      "metadata": {
        "colab": {
          "base_uri": "https://localhost:8080/"
        },
        "id": "9kDaPrj9jsEK",
        "outputId": "0e3bf598-9e4a-4ab2-b383-96e3bb7f69ba"
      },
      "execution_count": 19,
      "outputs": [
        {
          "output_type": "execute_result",
          "data": {
            "text/plain": [
              "['Historians',\n",
              " 'currently',\n",
              " 'think',\n",
              " 'that',\n",
              " 'anatomically',\n",
              " 'modern',\n",
              " 'humans',\n",
              " 'have',\n",
              " 'been',\n",
              " 'around',\n",
              " 'for',\n",
              " 'between',\n",
              " '200,000',\n",
              " 'and',\n",
              " '300,000',\n",
              " 'of',\n",
              " 'the',\n",
              " 'planet',\n",
              " '’s',\n",
              " '4.5',\n",
              " 'billion',\n",
              " 'years',\n",
              " '.',\n",
              " '\\n',\n",
              " 'And',\n",
              " 'even',\n",
              " 'though',\n",
              " '200,000',\n",
              " 'years',\n",
              " 'is',\n",
              " 'less',\n",
              " 'than',\n",
              " 'one',\n",
              " '20,000th',\n",
              " 'of',\n",
              " 'the',\n",
              " 'history',\n",
              " 'of',\n",
              " 'the',\n",
              " 'planet',\n",
              " ',',\n",
              " '\\n',\n",
              " 'it',\n",
              " 'is',\n",
              " 'still',\n",
              " 'a',\n",
              " 'very',\n",
              " 'long',\n",
              " 'time',\n",
              " '!',\n",
              " 'For',\n",
              " 'context',\n",
              " ',',\n",
              " '200,000',\n",
              " 'years',\n",
              " 'would',\n",
              " 'represent',\n",
              " 'at',\n",
              " 'least',\n",
              " '6,000',\n",
              " 'generations',\n",
              " 'of',\n",
              " 'your',\n",
              " 'ancestors',\n",
              " '(',\n",
              " 'your',\n",
              " 'grandparents',\n",
              " 'are',\n",
              " 'only',\n",
              " '2',\n",
              " 'generations',\n",
              " 'from',\n",
              " 'you',\n",
              " ')',\n",
              " '.',\n",
              " '\\n']"
            ]
          },
          "metadata": {},
          "execution_count": 19
        }
      ]
    },
    {
      "cell_type": "code",
      "source": [
        "len(tokens_spacy)"
      ],
      "metadata": {
        "colab": {
          "base_uri": "https://localhost:8080/"
        },
        "id": "wlI-y-qvj4LB",
        "outputId": "4e3726a1-969b-415f-e915-efbabc45e78b"
      },
      "execution_count": 20,
      "outputs": [
        {
          "output_type": "execute_result",
          "data": {
            "text/plain": [
              "76"
            ]
          },
          "metadata": {},
          "execution_count": 20
        }
      ]
    },
    {
      "cell_type": "code",
      "source": [
        "# Remove stopwords\n",
        "filtered_tokens_spacy = [word for word in tokens_spacy if word.lower() not in spacy_stopwords]\n",
        "print(\"Original Tokens :\",tokens_spacy)\n",
        "print(\"Filtered Tokens :\",filtered_tokens_spacy)\n",
        "print(\"Length of Original Tokens :\",len(tokens_spacy))\n",
        "print(\"Length of Filtered Tokens :\",len(filtered_tokens_spacy))"
      ],
      "metadata": {
        "colab": {
          "base_uri": "https://localhost:8080/"
        },
        "id": "7uFU6Y82j6l5",
        "outputId": "997e437a-20c4-4530-f474-c8fe6d5a6e03"
      },
      "execution_count": 21,
      "outputs": [
        {
          "output_type": "stream",
          "name": "stdout",
          "text": [
            "Original Tokens : ['Historians', 'currently', 'think', 'that', 'anatomically', 'modern', 'humans', 'have', 'been', 'around', 'for', 'between', '200,000', 'and', '300,000', 'of', 'the', 'planet', '’s', '4.5', 'billion', 'years', '.', '\\n', 'And', 'even', 'though', '200,000', 'years', 'is', 'less', 'than', 'one', '20,000th', 'of', 'the', 'history', 'of', 'the', 'planet', ',', '\\n', 'it', 'is', 'still', 'a', 'very', 'long', 'time', '!', 'For', 'context', ',', '200,000', 'years', 'would', 'represent', 'at', 'least', '6,000', 'generations', 'of', 'your', 'ancestors', '(', 'your', 'grandparents', 'are', 'only', '2', 'generations', 'from', 'you', ')', '.', '\\n']\n",
            "Filtered Tokens : ['Historians', 'currently', 'think', 'anatomically', 'modern', 'humans', '200,000', '300,000', 'planet', '4.5', 'billion', 'years', '.', '\\n', '200,000', 'years', '20,000th', 'history', 'planet', ',', '\\n', 'long', 'time', '!', 'context', ',', '200,000', 'years', 'represent', '6,000', 'generations', 'ancestors', '(', 'grandparents', '2', 'generations', ')', '.', '\\n']\n",
            "Length of Original Tokens : 76\n",
            "Length of Filtered Tokens : 39\n"
          ]
        }
      ]
    },
    {
      "cell_type": "code",
      "source": [
        "filtered_tokens_spacy # The tokens after filtered with the spacy"
      ],
      "metadata": {
        "colab": {
          "base_uri": "https://localhost:8080/"
        },
        "id": "n7MDqEElkj8u",
        "outputId": "44952a5e-7617-4417-c69b-cf74d649818b"
      },
      "execution_count": 22,
      "outputs": [
        {
          "output_type": "execute_result",
          "data": {
            "text/plain": [
              "['Historians',\n",
              " 'currently',\n",
              " 'think',\n",
              " 'anatomically',\n",
              " 'modern',\n",
              " 'humans',\n",
              " '200,000',\n",
              " '300,000',\n",
              " 'planet',\n",
              " '4.5',\n",
              " 'billion',\n",
              " 'years',\n",
              " '.',\n",
              " '\\n',\n",
              " '200,000',\n",
              " 'years',\n",
              " '20,000th',\n",
              " 'history',\n",
              " 'planet',\n",
              " ',',\n",
              " '\\n',\n",
              " 'long',\n",
              " 'time',\n",
              " '!',\n",
              " 'context',\n",
              " ',',\n",
              " '200,000',\n",
              " 'years',\n",
              " 'represent',\n",
              " '6,000',\n",
              " 'generations',\n",
              " 'ancestors',\n",
              " '(',\n",
              " 'grandparents',\n",
              " '2',\n",
              " 'generations',\n",
              " ')',\n",
              " '.',\n",
              " '\\n']"
            ]
          },
          "metadata": {},
          "execution_count": 22
        }
      ]
    },
    {
      "cell_type": "markdown",
      "source": [
        "<h1> There is another library called genism but for that it needs specified version libraries so genism code is in another notebook </h1>"
      ],
      "metadata": {
        "id": "vUVYph97l59w"
      }
    },
    {
      "cell_type": "markdown",
      "source": [
        "Adding and Removing the Default Stopwords in NLTK"
      ],
      "metadata": {
        "id": "cehALjh4Hhor"
      }
    },
    {
      "cell_type": "code",
      "source": [
        "print(\"Existing Length of the stopwords in nltk library :\",len(nltk_stopwords))"
      ],
      "metadata": {
        "colab": {
          "base_uri": "https://localhost:8080/"
        },
        "id": "2wIvFM75HlX-",
        "outputId": "559d6cc9-411f-4211-fd51-b5bc93b12b5a"
      },
      "execution_count": 23,
      "outputs": [
        {
          "output_type": "stream",
          "name": "stdout",
          "text": [
            "Existing Length of the stopwords in nltk library : 198\n"
          ]
        }
      ]
    },
    {
      "cell_type": "code",
      "source": [
        "nltk_stopwords.append('example1')"
      ],
      "metadata": {
        "id": "zgHMaIDHKw1g"
      },
      "execution_count": 24,
      "outputs": []
    },
    {
      "cell_type": "code",
      "source": [
        "len(nltk_stopwords)"
      ],
      "metadata": {
        "colab": {
          "base_uri": "https://localhost:8080/"
        },
        "id": "3FkAkFO-K4pP",
        "outputId": "d28306c3-199b-4819-d863-5334451f1e8c"
      },
      "execution_count": 25,
      "outputs": [
        {
          "output_type": "execute_result",
          "data": {
            "text/plain": [
              "199"
            ]
          },
          "metadata": {},
          "execution_count": 25
        }
      ]
    },
    {
      "cell_type": "code",
      "source": [
        "# To add three or more words\n",
        "nltk_stopwords.extend(['example2','example3'])"
      ],
      "metadata": {
        "id": "qNYHHzxYK6QA"
      },
      "execution_count": 26,
      "outputs": []
    },
    {
      "cell_type": "code",
      "source": [
        "len(nltk_stopwords)"
      ],
      "metadata": {
        "colab": {
          "base_uri": "https://localhost:8080/"
        },
        "id": "QVvT4L1uLBVf",
        "outputId": "0a961d1c-90f7-4b9d-ad9f-d1fcb8dfa7fb"
      },
      "execution_count": 27,
      "outputs": [
        {
          "output_type": "execute_result",
          "data": {
            "text/plain": [
              "201"
            ]
          },
          "metadata": {},
          "execution_count": 27
        }
      ]
    },
    {
      "cell_type": "code",
      "source": [
        "# To remove the stopwords\n",
        "print(nltk_stopwords)"
      ],
      "metadata": {
        "colab": {
          "base_uri": "https://localhost:8080/"
        },
        "id": "-SskJmSFLC-I",
        "outputId": "c7281c16-7622-4e20-a7be-6d1e7c9071ec"
      },
      "execution_count": 28,
      "outputs": [
        {
          "output_type": "stream",
          "name": "stdout",
          "text": [
            "['a', 'about', 'above', 'after', 'again', 'against', 'ain', 'all', 'am', 'an', 'and', 'any', 'are', 'aren', \"aren't\", 'as', 'at', 'be', 'because', 'been', 'before', 'being', 'below', 'between', 'both', 'but', 'by', 'can', 'couldn', \"couldn't\", 'd', 'did', 'didn', \"didn't\", 'do', 'does', 'doesn', \"doesn't\", 'doing', 'don', \"don't\", 'down', 'during', 'each', 'few', 'for', 'from', 'further', 'had', 'hadn', \"hadn't\", 'has', 'hasn', \"hasn't\", 'have', 'haven', \"haven't\", 'having', 'he', \"he'd\", \"he'll\", 'her', 'here', 'hers', 'herself', \"he's\", 'him', 'himself', 'his', 'how', 'i', \"i'd\", 'if', \"i'll\", \"i'm\", 'in', 'into', 'is', 'isn', \"isn't\", 'it', \"it'd\", \"it'll\", \"it's\", 'its', 'itself', \"i've\", 'just', 'll', 'm', 'ma', 'me', 'mightn', \"mightn't\", 'more', 'most', 'mustn', \"mustn't\", 'my', 'myself', 'needn', \"needn't\", 'no', 'nor', 'not', 'now', 'o', 'of', 'off', 'on', 'once', 'only', 'or', 'other', 'our', 'ours', 'ourselves', 'out', 'over', 'own', 're', 's', 'same', 'shan', \"shan't\", 'she', \"she'd\", \"she'll\", \"she's\", 'should', 'shouldn', \"shouldn't\", \"should've\", 'so', 'some', 'such', 't', 'than', 'that', \"that'll\", 'the', 'their', 'theirs', 'them', 'themselves', 'then', 'there', 'these', 'they', \"they'd\", \"they'll\", \"they're\", \"they've\", 'this', 'those', 'through', 'to', 'too', 'under', 'until', 'up', 've', 'very', 'was', 'wasn', \"wasn't\", 'we', \"we'd\", \"we'll\", \"we're\", 'were', 'weren', \"weren't\", \"we've\", 'what', 'when', 'where', 'which', 'while', 'who', 'whom', 'why', 'will', 'with', 'won', \"won't\", 'wouldn', \"wouldn't\", 'y', 'you', \"you'd\", \"you'll\", 'your', \"you're\", 'yours', 'yourself', 'yourselves', \"you've\", 'example1', 'example2', 'example3']\n"
          ]
        }
      ]
    },
    {
      "cell_type": "code",
      "source": [
        "nltk_stopwords.remove('example1')"
      ],
      "metadata": {
        "id": "Oo6N3isELNyk"
      },
      "execution_count": 29,
      "outputs": []
    },
    {
      "cell_type": "code",
      "source": [
        "len(nltk_stopwords)"
      ],
      "metadata": {
        "colab": {
          "base_uri": "https://localhost:8080/"
        },
        "id": "v4Xww7gTLaQ5",
        "outputId": "dd27fb39-2c20-45d6-efd0-e1a806030d8d"
      },
      "execution_count": 30,
      "outputs": [
        {
          "output_type": "execute_result",
          "data": {
            "text/plain": [
              "200"
            ]
          },
          "metadata": {},
          "execution_count": 30
        }
      ]
    },
    {
      "cell_type": "markdown",
      "source": [
        "Adding and Removing the Default Stopwords In Spacy Library"
      ],
      "metadata": {
        "id": "SfWiOeyLL_Gm"
      }
    },
    {
      "cell_type": "code",
      "source": [
        "nlp=spacy.load('en_core_web_sm')"
      ],
      "metadata": {
        "id": "z8YjIVPlLbMy"
      },
      "execution_count": 31,
      "outputs": []
    },
    {
      "cell_type": "code",
      "source": [
        "spacy_stopwords = nlp.Defaults.stop_words"
      ],
      "metadata": {
        "id": "CBSmKL-XLrVj"
      },
      "execution_count": 32,
      "outputs": []
    },
    {
      "cell_type": "code",
      "source": [
        "print(spacy_stopwords)"
      ],
      "metadata": {
        "colab": {
          "base_uri": "https://localhost:8080/"
        },
        "id": "HOnC_ajMLy4i",
        "outputId": "23a4cea9-196e-4945-d27b-7c7e50d03cea"
      },
      "execution_count": 33,
      "outputs": [
        {
          "output_type": "stream",
          "name": "stdout",
          "text": [
            "{'must', 'your', 'four', 'elsewhere', 'their', 'anything', 'some', 'nobody', '‘m', 'become', 'nevertheless', 'go', 'above', 'he', 'via', 'without', 'down', 'own', 'through', 'more', 'whether', 'already', 'our', 'an', 'put', 'against', 'another', 'often', 'formerly', 'ourselves', 'others', 'its', 'most', 'somewhere', 'make', 'will', 'unless', 'before', 'three', 'into', 'somehow', 'empty', 'again', 'us', 'made', 'we', 'first', 'together', 'was', 'in', 'due', 'yet', 'very', 'than', 'had', 'six', 'seems', 'thereby', 'few', 'also', 'one', 'everywhere', 'during', 'becoming', 'could', 'by', 'within', 'are', 'except', 'thereupon', 'something', 'quite', 'been', 'yourself', 'much', 'whereupon', 'did', 'me', 'should', 'whither', 'namely', 'either', 'itself', 'now', 'wherein', 'along', 'such', 'further', 'fifteen', 'even', 'below', 'well', 'what', 'say', \"'ll\", 'perhaps', 'five', 'out', 'so', 'wherever', 'with', 'beforehand', 'over', 'really', 'seeming', 'take', 'enough', 'almost', 'seem', 'forty', 'noone', 'everything', '‘re', 'afterwards', 'latter', 'see', 'side', 'ours', 'under', 'thru', 'nothing', 'doing', 'throughout', 'on', 'after', 'call', 'can', 'same', 'were', 'off', 'where', '‘ve', 'and', 'none', 'seemed', '’d', 'ca', 'around', 'nowhere', 'has', 'too', \"'ve\", 'whole', 'show', 'i', 'might', 'the', 'give', 'ever', 'please', 'yours', 'still', '‘d', 'get', '’s', 'onto', 'next', 'becomes', 'rather', \"'m\", 'least', '’re', 'anywhere', 'back', 'third', 'behind', 'them', 'any', 'else', 'anyhow', 'amount', 'am', 'thus', 'sometimes', 'anyway', 'it', 'name', 'which', 'being', 'him', 'there', 'fifty', 'a', 'all', 'n‘t', 'thereafter', 'who', 'or', 'besides', 'you', 'they', 'various', 'always', 'beside', 'this', 'other', 'whenever', 'across', 'for', 'how', 'whose', 'of', 'himself', 'mine', 'up', 'two', 'among', 'alone', 'that', 'upon', 'nor', 'bottom', 'although', 'whom', 'though', 'per', 'yourselves', 'amongst', '‘ll', 'her', 'myself', 'hereafter', 'as', 'neither', 'cannot', 're', 'serious', '‘s', 'only', 'every', 'hundred', 'both', 'never', 'to', 'hereupon', 'n’t', 'if', 'once', 'just', 'hers', 'each', 'whoever', 'between', 'herein', 'here', 'many', \"'re\", 'former', 'someone', 'toward', 'sixty', 'may', 'ten', 'meanwhile', 'twelve', 'when', 'while', 'these', 'whatever', 'front', \"'s\", \"'d\", 'whence', '’m', 'his', 'have', 'several', \"n't\", 'do', 'is', 'thence', 'twenty', 'therefore', 'sometime', 'done', 'moreover', 'top', 'beyond', 'whereafter', 'does', '’ve', 'full', 'not', 'herself', '’ll', 'however', 'no', 'otherwise', 'she', 'at', 'be', 'about', 'part', 'then', 'whereas', 'hence', 'would', 'towards', 'because', 'but', 'eight', 'my', 'latterly', 'whereby', 'eleven', 'used', 'move', 'until', 'indeed', 'why', 'less', 'regarding', 'hereby', 'those', 'last', 'therein', 'from', 'mostly', 'nine', 'became', 'since', 'keep', 'using', 'themselves', 'anyone', 'everyone'}\n"
          ]
        }
      ]
    },
    {
      "cell_type": "code",
      "source": [
        "len(spacy_stopwords)"
      ],
      "metadata": {
        "colab": {
          "base_uri": "https://localhost:8080/"
        },
        "id": "f9VSmsHQL4vg",
        "outputId": "a3da2e4e-a51d-4569-d1a4-a9e50ae3ddba"
      },
      "execution_count": 34,
      "outputs": [
        {
          "output_type": "execute_result",
          "data": {
            "text/plain": [
              "326"
            ]
          },
          "metadata": {},
          "execution_count": 34
        }
      ]
    },
    {
      "cell_type": "code",
      "source": [
        "# To add\n",
        "spacy_stopwords.add('example1')"
      ],
      "metadata": {
        "id": "Ti0H10e3L-Bm"
      },
      "execution_count": 35,
      "outputs": []
    },
    {
      "cell_type": "code",
      "source": [
        "len(spacy_stopwords)"
      ],
      "metadata": {
        "colab": {
          "base_uri": "https://localhost:8080/"
        },
        "id": "0bRK6P2QMFU0",
        "outputId": "f96959ef-66cc-4a0f-b8bf-ff13d68d453f"
      },
      "execution_count": 36,
      "outputs": [
        {
          "output_type": "execute_result",
          "data": {
            "text/plain": [
              "327"
            ]
          },
          "metadata": {},
          "execution_count": 36
        }
      ]
    },
    {
      "cell_type": "code",
      "source": [
        "# To add two or more\n",
        "spacy_stopwords |={'example2','example3'}"
      ],
      "metadata": {
        "id": "5GYosD3eMGGO"
      },
      "execution_count": 37,
      "outputs": []
    },
    {
      "cell_type": "code",
      "source": [
        "len(spacy_stopwords)"
      ],
      "metadata": {
        "colab": {
          "base_uri": "https://localhost:8080/"
        },
        "id": "YQc-zo9dMXao",
        "outputId": "0bce9123-c517-4d62-fffe-3b7e54c7417b"
      },
      "execution_count": 38,
      "outputs": [
        {
          "output_type": "execute_result",
          "data": {
            "text/plain": [
              "329"
            ]
          },
          "metadata": {},
          "execution_count": 38
        }
      ]
    },
    {
      "cell_type": "code",
      "source": [
        "# To remove\n",
        "spacy_stopwords.remove('example1')"
      ],
      "metadata": {
        "id": "4EpruOYaMY2B"
      },
      "execution_count": 39,
      "outputs": []
    },
    {
      "cell_type": "code",
      "source": [
        "len(spacy_stopwords)"
      ],
      "metadata": {
        "colab": {
          "base_uri": "https://localhost:8080/"
        },
        "id": "hhmo3Ei0MlSO",
        "outputId": "a82fd3b6-25a0-427b-fa11-a4e7f8305c80"
      },
      "execution_count": 40,
      "outputs": [
        {
          "output_type": "execute_result",
          "data": {
            "text/plain": [
              "328"
            ]
          },
          "metadata": {},
          "execution_count": 40
        }
      ]
    },
    {
      "cell_type": "code",
      "source": [
        "# To remove two or more\n",
        "spacy_stopwords -= {'example2','example3'}"
      ],
      "metadata": {
        "id": "hl1SrEIvMmNu"
      },
      "execution_count": 41,
      "outputs": []
    },
    {
      "cell_type": "code",
      "source": [
        "len(spacy_stopwords)"
      ],
      "metadata": {
        "colab": {
          "base_uri": "https://localhost:8080/"
        },
        "id": "ATmKwMpYMrRD",
        "outputId": "cf76b138-edd2-439b-c474-fbf19d5f9dc7"
      },
      "execution_count": 42,
      "outputs": [
        {
          "output_type": "execute_result",
          "data": {
            "text/plain": [
              "326"
            ]
          },
          "metadata": {},
          "execution_count": 42
        }
      ]
    },
    {
      "cell_type": "markdown",
      "source": [
        "<h1>Creating our own stopwords using the NLTK Library</h1>\n",
        "\n"
      ],
      "metadata": {
        "id": "cd97VpioFpDV"
      }
    },
    {
      "cell_type": "code",
      "source": [
        "# Customization of stopwords using the nltk\n",
        "text = '''Migraines aren't your average, run-of-the-mill headaches. When you have a migraine, it feels like your head is throbbing, every light is glaring, and all you want to do is lie down in a dark room.\n",
        "Let's talk about migraines. We know that migraines are more common in women than in men. But what exactly triggers these severe headaches is less clear, and it's different in different people.\n",
        "For some people the trigger is stress. For others, it's strong odors like perfumes. Changing hormones around the time of a woman's menstrual period can set off a migraine.\n",
        "So can certain foods like chocolate, cured meats, red wine, and aged cheese. Doctors believe that whatever triggers a migraine sets off a chain of abnormal activities in brain chemicals and nerves.\n",
        "These activities affect the flow of blood through the brain. A migraine feels different than a regular headache. For one thing, it often comes with a warning.\n",
        "Some people get a sign that their migraine is coming, called an aura. About 10 to 15 minutes before the actual headache hits, their vision gets blurry or narrowed and they may see stars or zigzag lines\n",
        "'''"
      ],
      "metadata": {
        "id": "5Wegt9fgLTQG"
      },
      "execution_count": 43,
      "outputs": []
    },
    {
      "cell_type": "code",
      "source": [
        "custom_stopwords = ['migranes','headaches','you','your','off','a','the']"
      ],
      "metadata": {
        "id": "xRRUW2x2Mbta"
      },
      "execution_count": 44,
      "outputs": []
    },
    {
      "cell_type": "code",
      "source": [
        "tokens = nltk.word_tokenize(text)"
      ],
      "metadata": {
        "id": "jBP2P5u5M0Na"
      },
      "execution_count": 45,
      "outputs": []
    },
    {
      "cell_type": "code",
      "source": [
        "print(tokens)"
      ],
      "metadata": {
        "colab": {
          "base_uri": "https://localhost:8080/"
        },
        "id": "Yb-nb3ExM2m5",
        "outputId": "8758d394-b5fe-4228-d41d-0a33b689c4b0"
      },
      "execution_count": 46,
      "outputs": [
        {
          "output_type": "stream",
          "name": "stdout",
          "text": [
            "['Migraines', 'are', \"n't\", 'your', 'average', ',', 'run-of-the-mill', 'headaches', '.', 'When', 'you', 'have', 'a', 'migraine', ',', 'it', 'feels', 'like', 'your', 'head', 'is', 'throbbing', ',', 'every', 'light', 'is', 'glaring', ',', 'and', 'all', 'you', 'want', 'to', 'do', 'is', 'lie', 'down', 'in', 'a', 'dark', 'room', '.', 'Let', \"'s\", 'talk', 'about', 'migraines', '.', 'We', 'know', 'that', 'migraines', 'are', 'more', 'common', 'in', 'women', 'than', 'in', 'men', '.', 'But', 'what', 'exactly', 'triggers', 'these', 'severe', 'headaches', 'is', 'less', 'clear', ',', 'and', 'it', \"'s\", 'different', 'in', 'different', 'people', '.', 'For', 'some', 'people', 'the', 'trigger', 'is', 'stress', '.', 'For', 'others', ',', 'it', \"'s\", 'strong', 'odors', 'like', 'perfumes', '.', 'Changing', 'hormones', 'around', 'the', 'time', 'of', 'a', 'woman', \"'s\", 'menstrual', 'period', 'can', 'set', 'off', 'a', 'migraine', '.', 'So', 'can', 'certain', 'foods', 'like', 'chocolate', ',', 'cured', 'meats', ',', 'red', 'wine', ',', 'and', 'aged', 'cheese', '.', 'Doctors', 'believe', 'that', 'whatever', 'triggers', 'a', 'migraine', 'sets', 'off', 'a', 'chain', 'of', 'abnormal', 'activities', 'in', 'brain', 'chemicals', 'and', 'nerves', '.', 'These', 'activities', 'affect', 'the', 'flow', 'of', 'blood', 'through', 'the', 'brain', '.', 'A', 'migraine', 'feels', 'different', 'than', 'a', 'regular', 'headache', '.', 'For', 'one', 'thing', ',', 'it', 'often', 'comes', 'with', 'a', 'warning', '.', 'Some', 'people', 'get', 'a', 'sign', 'that', 'their', 'migraine', 'is', 'coming', ',', 'called', 'an', 'aura', '.', 'About', '10', 'to', '15', 'minutes', 'before', 'the', 'actual', 'headache', 'hits', ',', 'their', 'vision', 'gets', 'blurry', 'or', 'narrowed', 'and', 'they', 'may', 'see', 'stars', 'or', 'zigzag', 'lines']\n"
          ]
        }
      ]
    },
    {
      "cell_type": "code",
      "source": [
        "filtered_tokens = [word for word in tokens if word.lower() not in custom_stopwords]"
      ],
      "metadata": {
        "id": "6ncKPcBrM4Ih"
      },
      "execution_count": 47,
      "outputs": []
    },
    {
      "cell_type": "code",
      "source": [
        "print(filtered_tokens)"
      ],
      "metadata": {
        "colab": {
          "base_uri": "https://localhost:8080/"
        },
        "id": "0HnVrju1M7yZ",
        "outputId": "a72b4633-1a3a-496b-99f5-0e77412b76b5"
      },
      "execution_count": 48,
      "outputs": [
        {
          "output_type": "stream",
          "name": "stdout",
          "text": [
            "['Migraines', 'are', \"n't\", 'average', ',', 'run-of-the-mill', '.', 'When', 'have', 'migraine', ',', 'it', 'feels', 'like', 'head', 'is', 'throbbing', ',', 'every', 'light', 'is', 'glaring', ',', 'and', 'all', 'want', 'to', 'do', 'is', 'lie', 'down', 'in', 'dark', 'room', '.', 'Let', \"'s\", 'talk', 'about', 'migraines', '.', 'We', 'know', 'that', 'migraines', 'are', 'more', 'common', 'in', 'women', 'than', 'in', 'men', '.', 'But', 'what', 'exactly', 'triggers', 'these', 'severe', 'is', 'less', 'clear', ',', 'and', 'it', \"'s\", 'different', 'in', 'different', 'people', '.', 'For', 'some', 'people', 'trigger', 'is', 'stress', '.', 'For', 'others', ',', 'it', \"'s\", 'strong', 'odors', 'like', 'perfumes', '.', 'Changing', 'hormones', 'around', 'time', 'of', 'woman', \"'s\", 'menstrual', 'period', 'can', 'set', 'migraine', '.', 'So', 'can', 'certain', 'foods', 'like', 'chocolate', ',', 'cured', 'meats', ',', 'red', 'wine', ',', 'and', 'aged', 'cheese', '.', 'Doctors', 'believe', 'that', 'whatever', 'triggers', 'migraine', 'sets', 'chain', 'of', 'abnormal', 'activities', 'in', 'brain', 'chemicals', 'and', 'nerves', '.', 'These', 'activities', 'affect', 'flow', 'of', 'blood', 'through', 'brain', '.', 'migraine', 'feels', 'different', 'than', 'regular', 'headache', '.', 'For', 'one', 'thing', ',', 'it', 'often', 'comes', 'with', 'warning', '.', 'Some', 'people', 'get', 'sign', 'that', 'their', 'migraine', 'is', 'coming', ',', 'called', 'an', 'aura', '.', 'About', '10', 'to', '15', 'minutes', 'before', 'actual', 'headache', 'hits', ',', 'their', 'vision', 'gets', 'blurry', 'or', 'narrowed', 'and', 'they', 'may', 'see', 'stars', 'or', 'zigzag', 'lines']\n"
          ]
        }
      ]
    },
    {
      "cell_type": "code",
      "source": [
        "len(tokens)"
      ],
      "metadata": {
        "colab": {
          "base_uri": "https://localhost:8080/"
        },
        "id": "LdB3KcyoM9NQ",
        "outputId": "d20db8d8-0771-4c7b-9186-8cd8b0f75fa1"
      },
      "execution_count": 49,
      "outputs": [
        {
          "output_type": "execute_result",
          "data": {
            "text/plain": [
              "223"
            ]
          },
          "metadata": {},
          "execution_count": 49
        }
      ]
    },
    {
      "cell_type": "code",
      "source": [
        "len(filtered_tokens)"
      ],
      "metadata": {
        "colab": {
          "base_uri": "https://localhost:8080/"
        },
        "id": "71CC77woNAqZ",
        "outputId": "fe46e35e-c0de-4033-c140-42bea9fb5382"
      },
      "execution_count": 50,
      "outputs": [
        {
          "output_type": "execute_result",
          "data": {
            "text/plain": [
              "200"
            ]
          },
          "metadata": {},
          "execution_count": 50
        }
      ]
    }
  ]
}