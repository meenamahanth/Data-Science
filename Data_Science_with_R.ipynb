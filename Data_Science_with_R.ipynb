{
  "nbformat": 4,
  "nbformat_minor": 0,
  "metadata": {
    "colab": {
      "provenance": [],
      "authorship_tag": "ABX9TyOvtmNxPmF7cuVgRj3icwsy",
      "include_colab_link": true
    },
    "kernelspec": {
      "name": "ir",
      "display_name": "R"
    },
    "language_info": {
      "name": "R"
    }
  },
  "cells": [
    {
      "cell_type": "markdown",
      "metadata": {
        "id": "view-in-github",
        "colab_type": "text"
      },
      "source": [
        "<a href=\"https://colab.research.google.com/github/meenamahanth/Data-Science/blob/main/Data_Science_with_R.ipynb\" target=\"_parent\"><img src=\"https://colab.research.google.com/assets/colab-badge.svg\" alt=\"Open In Colab\"/></a>"
      ]
    },
    {
      "cell_type": "markdown",
      "source": [
        "Data Types in R"
      ],
      "metadata": {
        "id": "vi8_Fq7W6oQZ"
      }
    },
    {
      "cell_type": "code",
      "execution_count": null,
      "metadata": {
        "colab": {
          "base_uri": "https://localhost:8080/",
          "height": 86
        },
        "id": "-Uey3lta5M7T",
        "outputId": "ae4baec1-d9d9-4ebe-941b-918e2d693870"
      },
      "outputs": [
        {
          "output_type": "display_data",
          "data": {
            "text/html": [
              "'numeric'"
            ],
            "text/markdown": "'numeric'",
            "text/latex": "'numeric'",
            "text/plain": [
              "[1] \"numeric\""
            ]
          },
          "metadata": {}
        },
        {
          "output_type": "display_data",
          "data": {
            "text/html": [
              "'numeric'"
            ],
            "text/markdown": "'numeric'",
            "text/latex": "'numeric'",
            "text/plain": [
              "[1] \"numeric\""
            ]
          },
          "metadata": {}
        },
        {
          "output_type": "display_data",
          "data": {
            "text/html": [
              "'character'"
            ],
            "text/markdown": "'character'",
            "text/latex": "'character'",
            "text/plain": [
              "[1] \"character\""
            ]
          },
          "metadata": {}
        },
        {
          "output_type": "display_data",
          "data": {
            "text/html": [
              "'logical'"
            ],
            "text/markdown": "'logical'",
            "text/latex": "'logical'",
            "text/plain": [
              "[1] \"logical\""
            ]
          },
          "metadata": {}
        }
      ],
      "source": [
        "var =12.34\n",
        "var1 = 34\n",
        "class(var)\n",
        "class(var1)\n",
        "var=\"Meena\"\n",
        "class(var)\n",
        "var=TRUE\n",
        "class(var)"
      ]
    },
    {
      "cell_type": "markdown",
      "source": [
        "Operators in R"
      ],
      "metadata": {
        "id": "6ER4bK7D6uno"
      }
    },
    {
      "cell_type": "code",
      "source": [
        "# Assignment Operators =,<-,->\n",
        "a=8\n",
        "b <- \"hello\"\n",
        "TRUE -> c\n",
        "a  # To print the value in a\n",
        "b\n",
        "c"
      ],
      "metadata": {
        "colab": {
          "base_uri": "https://localhost:8080/",
          "height": 69
        },
        "id": "RWtzOKVl6A7D",
        "outputId": "5e34847c-3ec0-440a-fceb-73cf87b76714"
      },
      "execution_count": null,
      "outputs": [
        {
          "output_type": "display_data",
          "data": {
            "text/html": [
              "8"
            ],
            "text/markdown": "8",
            "text/latex": "8",
            "text/plain": [
              "[1] 8"
            ]
          },
          "metadata": {}
        },
        {
          "output_type": "display_data",
          "data": {
            "text/html": [
              "'hello'"
            ],
            "text/markdown": "'hello'",
            "text/latex": "'hello'",
            "text/plain": [
              "[1] \"hello\""
            ]
          },
          "metadata": {}
        },
        {
          "output_type": "display_data",
          "data": {
            "text/html": [
              "TRUE"
            ],
            "text/markdown": "TRUE",
            "text/latex": "TRUE",
            "text/plain": [
              "[1] TRUE"
            ]
          },
          "metadata": {}
        }
      ]
    },
    {
      "cell_type": "code",
      "source": [
        "# Arithmetic Operators  +,-,*,/\n",
        "num1 = 20\n",
        "num2 = 10\n",
        "num1+num2\n",
        "num1-num2\n",
        "num1*num2\n",
        "num1/num2"
      ],
      "metadata": {
        "colab": {
          "base_uri": "https://localhost:8080/",
          "height": 86
        },
        "id": "YrCOqDDM7kXj",
        "outputId": "0e238112-cb8d-4815-ed80-ee8415b6bc3e"
      },
      "execution_count": null,
      "outputs": [
        {
          "output_type": "display_data",
          "data": {
            "text/html": [
              "30"
            ],
            "text/markdown": "30",
            "text/latex": "30",
            "text/plain": [
              "[1] 30"
            ]
          },
          "metadata": {}
        },
        {
          "output_type": "display_data",
          "data": {
            "text/html": [
              "10"
            ],
            "text/markdown": "10",
            "text/latex": "10",
            "text/plain": [
              "[1] 10"
            ]
          },
          "metadata": {}
        },
        {
          "output_type": "display_data",
          "data": {
            "text/html": [
              "200"
            ],
            "text/markdown": "200",
            "text/latex": "200",
            "text/plain": [
              "[1] 200"
            ]
          },
          "metadata": {}
        },
        {
          "output_type": "display_data",
          "data": {
            "text/html": [
              "2"
            ],
            "text/markdown": "2",
            "text/latex": "2",
            "text/plain": [
              "[1] 2"
            ]
          },
          "metadata": {}
        }
      ]
    },
    {
      "cell_type": "code",
      "source": [
        "# Relation Operators >,<,==\n",
        "num1=10\n",
        "num2=20\n",
        "num1 > num2\n",
        "num1 < num2\n",
        "num1 == num2"
      ],
      "metadata": {
        "colab": {
          "base_uri": "https://localhost:8080/",
          "height": 69
        },
        "id": "GUPvLZLL77vL",
        "outputId": "193821cb-a1ef-4e50-c7e1-3102da316e48"
      },
      "execution_count": null,
      "outputs": [
        {
          "output_type": "display_data",
          "data": {
            "text/html": [
              "FALSE"
            ],
            "text/markdown": "FALSE",
            "text/latex": "FALSE",
            "text/plain": [
              "[1] FALSE"
            ]
          },
          "metadata": {}
        },
        {
          "output_type": "display_data",
          "data": {
            "text/html": [
              "TRUE"
            ],
            "text/markdown": "TRUE",
            "text/latex": "TRUE",
            "text/plain": [
              "[1] TRUE"
            ]
          },
          "metadata": {}
        },
        {
          "output_type": "display_data",
          "data": {
            "text/html": [
              "FALSE"
            ],
            "text/markdown": "FALSE",
            "text/latex": "FALSE",
            "text/plain": [
              "[1] FALSE"
            ]
          },
          "metadata": {}
        }
      ]
    },
    {
      "cell_type": "code",
      "source": [
        "# Logical Operators &,|\n",
        "log1=TRUE\n",
        "log2=FALSE\n",
        "log1 & log2  # TRUE & TRUE -> TRUE, TRUE & FALSE -> FALSE\n",
        "log1 | log2  # TRUE & FALSE -> TRUE.FALSE & FALSE ->FALSE"
      ],
      "metadata": {
        "colab": {
          "base_uri": "https://localhost:8080/",
          "height": 52
        },
        "id": "8yW8K9jt8fYi",
        "outputId": "c79ae753-d9fb-4e42-887f-e60fc3519104"
      },
      "execution_count": null,
      "outputs": [
        {
          "output_type": "display_data",
          "data": {
            "text/html": [
              "FALSE"
            ],
            "text/markdown": "FALSE",
            "text/latex": "FALSE",
            "text/plain": [
              "[1] FALSE"
            ]
          },
          "metadata": {}
        },
        {
          "output_type": "display_data",
          "data": {
            "text/html": [
              "TRUE"
            ],
            "text/markdown": "TRUE",
            "text/latex": "TRUE",
            "text/plain": [
              "[1] TRUE"
            ]
          },
          "metadata": {}
        }
      ]
    },
    {
      "cell_type": "markdown",
      "source": [
        "Vector in R - it's a linear datatypes datastruture (like string in python)"
      ],
      "metadata": {
        "id": "fqBkA_rg9mqC"
      }
    },
    {
      "cell_type": "code",
      "source": [
        "vec1 = c(1,2,3)   # c is used to combine the elements\n",
        "vec1\n",
        "class(vec1)\n",
        "vec1 <- c('a','b','c')\n",
        "vec1\n",
        "class(vec1)\n",
        "vec1 = c(TRUE,FALSE)\n",
        "vec1\n",
        "class(vec1)\n",
        "mixeddatatypes <- c(1,TRUE,2,FALSE)  # All converted into numerical and numeric has higher priority\n",
        "mixeddatatypes\n",
        "class(mixeddatatypes)  # All converted into characters as characters has the higher priority\n",
        "mixed = c(1,'a',TRUE,FALSE)\n",
        "mixed\n",
        "class(mixed)\n",
        "\n",
        "vect = c('Madireddy','Meena','Mahanth','Harinadh')\n",
        "vect[1:3]\n",
        "vect[1:4]\n",
        "vect[c(1,4)]"
      ],
      "metadata": {
        "colab": {
          "base_uri": "https://localhost:8080/",
          "height": 243
        },
        "id": "Vc6qR5G-8sXh",
        "outputId": "e75385bb-fab9-4159-f140-57dcfcedeaf1"
      },
      "execution_count": null,
      "outputs": [
        {
          "output_type": "display_data",
          "data": {
            "text/html": [
              "<style>\n",
              ".list-inline {list-style: none; margin:0; padding: 0}\n",
              ".list-inline>li {display: inline-block}\n",
              ".list-inline>li:not(:last-child)::after {content: \"\\00b7\"; padding: 0 .5ex}\n",
              "</style>\n",
              "<ol class=list-inline><li>1</li><li>2</li><li>3</li></ol>\n"
            ],
            "text/markdown": "1. 1\n2. 2\n3. 3\n\n\n",
            "text/latex": "\\begin{enumerate*}\n\\item 1\n\\item 2\n\\item 3\n\\end{enumerate*}\n",
            "text/plain": [
              "[1] 1 2 3"
            ]
          },
          "metadata": {}
        },
        {
          "output_type": "display_data",
          "data": {
            "text/html": [
              "'numeric'"
            ],
            "text/markdown": "'numeric'",
            "text/latex": "'numeric'",
            "text/plain": [
              "[1] \"numeric\""
            ]
          },
          "metadata": {}
        },
        {
          "output_type": "display_data",
          "data": {
            "text/html": [
              "<style>\n",
              ".list-inline {list-style: none; margin:0; padding: 0}\n",
              ".list-inline>li {display: inline-block}\n",
              ".list-inline>li:not(:last-child)::after {content: \"\\00b7\"; padding: 0 .5ex}\n",
              "</style>\n",
              "<ol class=list-inline><li>'a'</li><li>'b'</li><li>'c'</li></ol>\n"
            ],
            "text/markdown": "1. 'a'\n2. 'b'\n3. 'c'\n\n\n",
            "text/latex": "\\begin{enumerate*}\n\\item 'a'\n\\item 'b'\n\\item 'c'\n\\end{enumerate*}\n",
            "text/plain": [
              "[1] \"a\" \"b\" \"c\""
            ]
          },
          "metadata": {}
        },
        {
          "output_type": "display_data",
          "data": {
            "text/html": [
              "'character'"
            ],
            "text/markdown": "'character'",
            "text/latex": "'character'",
            "text/plain": [
              "[1] \"character\""
            ]
          },
          "metadata": {}
        },
        {
          "output_type": "display_data",
          "data": {
            "text/html": [
              "<style>\n",
              ".list-inline {list-style: none; margin:0; padding: 0}\n",
              ".list-inline>li {display: inline-block}\n",
              ".list-inline>li:not(:last-child)::after {content: \"\\00b7\"; padding: 0 .5ex}\n",
              "</style>\n",
              "<ol class=list-inline><li>TRUE</li><li>FALSE</li></ol>\n"
            ],
            "text/markdown": "1. TRUE\n2. FALSE\n\n\n",
            "text/latex": "\\begin{enumerate*}\n\\item TRUE\n\\item FALSE\n\\end{enumerate*}\n",
            "text/plain": [
              "[1]  TRUE FALSE"
            ]
          },
          "metadata": {}
        },
        {
          "output_type": "display_data",
          "data": {
            "text/html": [
              "'logical'"
            ],
            "text/markdown": "'logical'",
            "text/latex": "'logical'",
            "text/plain": [
              "[1] \"logical\""
            ]
          },
          "metadata": {}
        },
        {
          "output_type": "display_data",
          "data": {
            "text/html": [
              "<style>\n",
              ".list-inline {list-style: none; margin:0; padding: 0}\n",
              ".list-inline>li {display: inline-block}\n",
              ".list-inline>li:not(:last-child)::after {content: \"\\00b7\"; padding: 0 .5ex}\n",
              "</style>\n",
              "<ol class=list-inline><li>1</li><li>1</li><li>2</li><li>0</li></ol>\n"
            ],
            "text/markdown": "1. 1\n2. 1\n3. 2\n4. 0\n\n\n",
            "text/latex": "\\begin{enumerate*}\n\\item 1\n\\item 1\n\\item 2\n\\item 0\n\\end{enumerate*}\n",
            "text/plain": [
              "[1] 1 1 2 0"
            ]
          },
          "metadata": {}
        },
        {
          "output_type": "display_data",
          "data": {
            "text/html": [
              "'numeric'"
            ],
            "text/markdown": "'numeric'",
            "text/latex": "'numeric'",
            "text/plain": [
              "[1] \"numeric\""
            ]
          },
          "metadata": {}
        },
        {
          "output_type": "display_data",
          "data": {
            "text/html": [
              "<style>\n",
              ".list-inline {list-style: none; margin:0; padding: 0}\n",
              ".list-inline>li {display: inline-block}\n",
              ".list-inline>li:not(:last-child)::after {content: \"\\00b7\"; padding: 0 .5ex}\n",
              "</style>\n",
              "<ol class=list-inline><li>'1'</li><li>'a'</li><li>'TRUE'</li><li>'FALSE'</li></ol>\n"
            ],
            "text/markdown": "1. '1'\n2. 'a'\n3. 'TRUE'\n4. 'FALSE'\n\n\n",
            "text/latex": "\\begin{enumerate*}\n\\item '1'\n\\item 'a'\n\\item 'TRUE'\n\\item 'FALSE'\n\\end{enumerate*}\n",
            "text/plain": [
              "[1] \"1\"     \"a\"     \"TRUE\"  \"FALSE\""
            ]
          },
          "metadata": {}
        },
        {
          "output_type": "display_data",
          "data": {
            "text/html": [
              "'character'"
            ],
            "text/markdown": "'character'",
            "text/latex": "'character'",
            "text/plain": [
              "[1] \"character\""
            ]
          },
          "metadata": {}
        },
        {
          "output_type": "display_data",
          "data": {
            "text/html": [
              "<style>\n",
              ".list-inline {list-style: none; margin:0; padding: 0}\n",
              ".list-inline>li {display: inline-block}\n",
              ".list-inline>li:not(:last-child)::after {content: \"\\00b7\"; padding: 0 .5ex}\n",
              "</style>\n",
              "<ol class=list-inline><li>'Madireddy'</li><li>'Meena'</li><li>'Mahanth'</li></ol>\n"
            ],
            "text/markdown": "1. 'Madireddy'\n2. 'Meena'\n3. 'Mahanth'\n\n\n",
            "text/latex": "\\begin{enumerate*}\n\\item 'Madireddy'\n\\item 'Meena'\n\\item 'Mahanth'\n\\end{enumerate*}\n",
            "text/plain": [
              "[1] \"Madireddy\" \"Meena\"     \"Mahanth\"  "
            ]
          },
          "metadata": {}
        },
        {
          "output_type": "display_data",
          "data": {
            "text/html": [
              "<style>\n",
              ".list-inline {list-style: none; margin:0; padding: 0}\n",
              ".list-inline>li {display: inline-block}\n",
              ".list-inline>li:not(:last-child)::after {content: \"\\00b7\"; padding: 0 .5ex}\n",
              "</style>\n",
              "<ol class=list-inline><li>'Madireddy'</li><li>'Meena'</li><li>'Mahanth'</li><li>'Harinadh'</li></ol>\n"
            ],
            "text/markdown": "1. 'Madireddy'\n2. 'Meena'\n3. 'Mahanth'\n4. 'Harinadh'\n\n\n",
            "text/latex": "\\begin{enumerate*}\n\\item 'Madireddy'\n\\item 'Meena'\n\\item 'Mahanth'\n\\item 'Harinadh'\n\\end{enumerate*}\n",
            "text/plain": [
              "[1] \"Madireddy\" \"Meena\"     \"Mahanth\"   \"Harinadh\" "
            ]
          },
          "metadata": {}
        },
        {
          "output_type": "display_data",
          "data": {
            "text/html": [
              "<style>\n",
              ".list-inline {list-style: none; margin:0; padding: 0}\n",
              ".list-inline>li {display: inline-block}\n",
              ".list-inline>li:not(:last-child)::after {content: \"\\00b7\"; padding: 0 .5ex}\n",
              "</style>\n",
              "<ol class=list-inline><li>'Madireddy'</li><li>'Harinadh'</li></ol>\n"
            ],
            "text/markdown": "1. 'Madireddy'\n2. 'Harinadh'\n\n\n",
            "text/latex": "\\begin{enumerate*}\n\\item 'Madireddy'\n\\item 'Harinadh'\n\\end{enumerate*}\n",
            "text/plain": [
              "[1] \"Madireddy\" \"Harinadh\" "
            ]
          },
          "metadata": {}
        }
      ]
    },
    {
      "cell_type": "markdown",
      "source": [
        "List it's a linear Homogeneous datastructures"
      ],
      "metadata": {
        "id": "XNIP5YTK__BK"
      }
    },
    {
      "cell_type": "code",
      "source": [
        "li = list(1,'a',TRUE)\n",
        "li\n",
        "class(li[[1]])\n",
        "class(li[[2]])\n",
        "class(li[[3]])\n",
        "\n",
        "\n",
        "li1 = list(c(1,2,3),c(\"a\",\"b\",\"c\"),c(TRUE,FALSE))\n",
        "li1\n",
        "li1[1]\n",
        "li1[[2]][3]"
      ],
      "metadata": {
        "colab": {
          "base_uri": "https://localhost:8080/",
          "height": 278
        },
        "id": "8kSQT-FR-rsC",
        "outputId": "101e0b23-9d68-432d-ca83-cee12803ab19"
      },
      "execution_count": null,
      "outputs": [
        {
          "output_type": "display_data",
          "data": {
            "text/html": [
              "<ol>\n",
              "\t<li>1</li>\n",
              "\t<li>'a'</li>\n",
              "\t<li>TRUE</li>\n",
              "</ol>\n"
            ],
            "text/markdown": "1. 1\n2. 'a'\n3. TRUE\n\n\n",
            "text/latex": "\\begin{enumerate}\n\\item 1\n\\item 'a'\n\\item TRUE\n\\end{enumerate}\n",
            "text/plain": [
              "[[1]]\n",
              "[1] 1\n",
              "\n",
              "[[2]]\n",
              "[1] \"a\"\n",
              "\n",
              "[[3]]\n",
              "[1] TRUE\n"
            ]
          },
          "metadata": {}
        },
        {
          "output_type": "display_data",
          "data": {
            "text/html": [
              "'numeric'"
            ],
            "text/markdown": "'numeric'",
            "text/latex": "'numeric'",
            "text/plain": [
              "[1] \"numeric\""
            ]
          },
          "metadata": {}
        },
        {
          "output_type": "display_data",
          "data": {
            "text/html": [
              "'character'"
            ],
            "text/markdown": "'character'",
            "text/latex": "'character'",
            "text/plain": [
              "[1] \"character\""
            ]
          },
          "metadata": {}
        },
        {
          "output_type": "display_data",
          "data": {
            "text/html": [
              "'logical'"
            ],
            "text/markdown": "'logical'",
            "text/latex": "'logical'",
            "text/plain": [
              "[1] \"logical\""
            ]
          },
          "metadata": {}
        },
        {
          "output_type": "display_data",
          "data": {
            "text/html": [
              "<ol>\n",
              "\t<li><style>\n",
              ".list-inline {list-style: none; margin:0; padding: 0}\n",
              ".list-inline>li {display: inline-block}\n",
              ".list-inline>li:not(:last-child)::after {content: \"\\00b7\"; padding: 0 .5ex}\n",
              "</style>\n",
              "<ol class=list-inline><li>1</li><li>2</li><li>3</li></ol>\n",
              "</li>\n",
              "\t<li><style>\n",
              ".list-inline {list-style: none; margin:0; padding: 0}\n",
              ".list-inline>li {display: inline-block}\n",
              ".list-inline>li:not(:last-child)::after {content: \"\\00b7\"; padding: 0 .5ex}\n",
              "</style>\n",
              "<ol class=list-inline><li>'a'</li><li>'b'</li><li>'c'</li></ol>\n",
              "</li>\n",
              "\t<li><style>\n",
              ".list-inline {list-style: none; margin:0; padding: 0}\n",
              ".list-inline>li {display: inline-block}\n",
              ".list-inline>li:not(:last-child)::after {content: \"\\00b7\"; padding: 0 .5ex}\n",
              "</style>\n",
              "<ol class=list-inline><li>TRUE</li><li>FALSE</li></ol>\n",
              "</li>\n",
              "</ol>\n"
            ],
            "text/markdown": "1. 1. 1\n2. 2\n3. 3\n\n\n\n2. 1. 'a'\n2. 'b'\n3. 'c'\n\n\n\n3. 1. TRUE\n2. FALSE\n\n\n\n\n\n",
            "text/latex": "\\begin{enumerate}\n\\item \\begin{enumerate*}\n\\item 1\n\\item 2\n\\item 3\n\\end{enumerate*}\n\n\\item \\begin{enumerate*}\n\\item 'a'\n\\item 'b'\n\\item 'c'\n\\end{enumerate*}\n\n\\item \\begin{enumerate*}\n\\item TRUE\n\\item FALSE\n\\end{enumerate*}\n\n\\end{enumerate}\n",
            "text/plain": [
              "[[1]]\n",
              "[1] 1 2 3\n",
              "\n",
              "[[2]]\n",
              "[1] \"a\" \"b\" \"c\"\n",
              "\n",
              "[[3]]\n",
              "[1]  TRUE FALSE\n"
            ]
          },
          "metadata": {}
        },
        {
          "output_type": "display_data",
          "data": {
            "text/html": [
              "<ol>\n",
              "\t<li><style>\n",
              ".list-inline {list-style: none; margin:0; padding: 0}\n",
              ".list-inline>li {display: inline-block}\n",
              ".list-inline>li:not(:last-child)::after {content: \"\\00b7\"; padding: 0 .5ex}\n",
              "</style>\n",
              "<ol class=list-inline><li>1</li><li>2</li><li>3</li></ol>\n",
              "</li>\n",
              "</ol>\n"
            ],
            "text/markdown": "1. 1. 1\n2. 2\n3. 3\n\n\n\n\n\n",
            "text/latex": "\\begin{enumerate}\n\\item \\begin{enumerate*}\n\\item 1\n\\item 2\n\\item 3\n\\end{enumerate*}\n\n\\end{enumerate}\n",
            "text/plain": [
              "[[1]]\n",
              "[1] 1 2 3\n"
            ]
          },
          "metadata": {}
        },
        {
          "output_type": "display_data",
          "data": {
            "text/html": [
              "'c'"
            ],
            "text/markdown": "'c'",
            "text/latex": "'c'",
            "text/plain": [
              "[1] \"c\""
            ]
          },
          "metadata": {}
        }
      ]
    },
    {
      "cell_type": "markdown",
      "source": [
        "Matrices in R"
      ],
      "metadata": {
        "id": "ZtKn4C-zBM7i"
      }
    },
    {
      "cell_type": "code",
      "source": [
        "m1 = matrix(c(1,2,3,4,5,6),nrow = 2,ncol = 3)\n",
        "m1\n",
        "m1 = matrix(c(1,2,3,4,5,6),nrow = 2,ncol = 3,byrow = TRUE)\n",
        "m1\n",
        "m1[2,2]   # to get the number 5\n",
        "m1[2,1]   # to get the number 4"
      ],
      "metadata": {
        "colab": {
          "base_uri": "https://localhost:8080/",
          "height": 281
        },
        "id": "hKclZ4osAMwd",
        "outputId": "e3b9fe46-f1b5-46fa-96e8-766a7c5818cd"
      },
      "execution_count": null,
      "outputs": [
        {
          "output_type": "display_data",
          "data": {
            "text/html": [
              "<table class=\"dataframe\">\n",
              "<caption>A matrix: 2 × 3 of type dbl</caption>\n",
              "<tbody>\n",
              "\t<tr><td>1</td><td>3</td><td>5</td></tr>\n",
              "\t<tr><td>2</td><td>4</td><td>6</td></tr>\n",
              "</tbody>\n",
              "</table>\n"
            ],
            "text/markdown": "\nA matrix: 2 × 3 of type dbl\n\n| 1 | 3 | 5 |\n| 2 | 4 | 6 |\n\n",
            "text/latex": "A matrix: 2 × 3 of type dbl\n\\begin{tabular}{lll}\n\t 1 & 3 & 5\\\\\n\t 2 & 4 & 6\\\\\n\\end{tabular}\n",
            "text/plain": [
              "     [,1] [,2] [,3]\n",
              "[1,] 1    3    5   \n",
              "[2,] 2    4    6   "
            ]
          },
          "metadata": {}
        },
        {
          "output_type": "display_data",
          "data": {
            "text/html": [
              "<table class=\"dataframe\">\n",
              "<caption>A matrix: 2 × 3 of type dbl</caption>\n",
              "<tbody>\n",
              "\t<tr><td>1</td><td>2</td><td>3</td></tr>\n",
              "\t<tr><td>4</td><td>5</td><td>6</td></tr>\n",
              "</tbody>\n",
              "</table>\n"
            ],
            "text/markdown": "\nA matrix: 2 × 3 of type dbl\n\n| 1 | 2 | 3 |\n| 4 | 5 | 6 |\n\n",
            "text/latex": "A matrix: 2 × 3 of type dbl\n\\begin{tabular}{lll}\n\t 1 & 2 & 3\\\\\n\t 4 & 5 & 6\\\\\n\\end{tabular}\n",
            "text/plain": [
              "     [,1] [,2] [,3]\n",
              "[1,] 1    2    3   \n",
              "[2,] 4    5    6   "
            ]
          },
          "metadata": {}
        },
        {
          "output_type": "display_data",
          "data": {
            "text/html": [
              "5"
            ],
            "text/markdown": "5",
            "text/latex": "5",
            "text/plain": [
              "[1] 5"
            ]
          },
          "metadata": {}
        },
        {
          "output_type": "display_data",
          "data": {
            "text/html": [
              "4"
            ],
            "text/markdown": "4",
            "text/latex": "4",
            "text/plain": [
              "[1] 4"
            ]
          },
          "metadata": {}
        }
      ]
    },
    {
      "cell_type": "markdown",
      "source": [
        "Arrays in R"
      ],
      "metadata": {
        "id": "TtS0Sl89CerZ"
      }
    },
    {
      "cell_type": "code",
      "source": [
        "vec1 = c(1,2,3,4,5,6)\n",
        "vec2 = c(7,8,9,10,11,12)\n",
        "arr = array(c(vec1, vec2), dim = c(2,3,2))  # 2 X 3 and 2 matrices\n",
        "print(arr)\n",
        "print(arr[1,3,2]) # In matrix 2 [1,3] position\n",
        "print(arr[1,3,1]) # In matrix 1 [1,3] position"
      ],
      "metadata": {
        "colab": {
          "base_uri": "https://localhost:8080/"
        },
        "id": "HAvyZeI6B1Go",
        "outputId": "4124df0d-b325-4dff-b527-7ad9909dd264"
      },
      "execution_count": null,
      "outputs": [
        {
          "output_type": "stream",
          "name": "stdout",
          "text": [
            ", , 1\n",
            "\n",
            "     [,1] [,2] [,3]\n",
            "[1,]    1    3    5\n",
            "[2,]    2    4    6\n",
            "\n",
            ", , 2\n",
            "\n",
            "     [,1] [,2] [,3]\n",
            "[1,]    7    9   11\n",
            "[2,]    8   10   12\n",
            "\n",
            "[1] 11\n",
            "[1] 5\n"
          ]
        }
      ]
    },
    {
      "cell_type": "markdown",
      "source": [
        "Factor and DataFrame"
      ],
      "metadata": {
        "id": "6ziGU5KdFqRZ"
      }
    },
    {
      "cell_type": "code",
      "source": [
        "# Factors\n",
        "color = factor(c(\"blue\",\"yellow\",\"red\"))\n",
        "print(color)\n",
        "color = factor(c(\"blue\",\"yellow\",\"red\",\"yellow\",\"yellow\"))\n",
        "print(color)  # in levels it reomves the duplicates"
      ],
      "metadata": {
        "colab": {
          "base_uri": "https://localhost:8080/"
        },
        "id": "QXXVxi3kCgZ8",
        "outputId": "3bd78920-f9ac-461a-d0b6-bd6ab87e01a5"
      },
      "execution_count": null,
      "outputs": [
        {
          "output_type": "stream",
          "name": "stdout",
          "text": [
            "[1] blue   yellow red   \n",
            "Levels: blue red yellow\n",
            "[1] blue   yellow red    yellow yellow\n",
            "Levels: blue red yellow\n"
          ]
        }
      ]
    },
    {
      "cell_type": "code",
      "source": [
        "# DataFrame\n",
        "fruit = data.frame(Fruit_name=c('Apple','Mango','Orange'),Fruit_Cost=c(100,50,70))\n",
        "fruit\n",
        "fruit$Fruit_name\n",
        "fruit$Fruit_Cost"
      ],
      "metadata": {
        "colab": {
          "base_uri": "https://localhost:8080/",
          "height": 227
        },
        "id": "yZOuzxtRF-LA",
        "outputId": "f4b48cd6-0a66-4771-9b16-d0083434091d"
      },
      "execution_count": null,
      "outputs": [
        {
          "output_type": "display_data",
          "data": {
            "text/html": [
              "<table class=\"dataframe\">\n",
              "<caption>A data.frame: 3 × 2</caption>\n",
              "<thead>\n",
              "\t<tr><th scope=col>Fruit_name</th><th scope=col>Fruit_Cost</th></tr>\n",
              "\t<tr><th scope=col>&lt;chr&gt;</th><th scope=col>&lt;dbl&gt;</th></tr>\n",
              "</thead>\n",
              "<tbody>\n",
              "\t<tr><td>Apple </td><td>100</td></tr>\n",
              "\t<tr><td>Mango </td><td> 50</td></tr>\n",
              "\t<tr><td>Orange</td><td> 70</td></tr>\n",
              "</tbody>\n",
              "</table>\n"
            ],
            "text/markdown": "\nA data.frame: 3 × 2\n\n| Fruit_name &lt;chr&gt; | Fruit_Cost &lt;dbl&gt; |\n|---|---|\n| Apple  | 100 |\n| Mango  |  50 |\n| Orange |  70 |\n\n",
            "text/latex": "A data.frame: 3 × 2\n\\begin{tabular}{ll}\n Fruit\\_name & Fruit\\_Cost\\\\\n <chr> & <dbl>\\\\\n\\hline\n\t Apple  & 100\\\\\n\t Mango  &  50\\\\\n\t Orange &  70\\\\\n\\end{tabular}\n",
            "text/plain": [
              "  Fruit_name Fruit_Cost\n",
              "1 Apple      100       \n",
              "2 Mango       50       \n",
              "3 Orange      70       "
            ]
          },
          "metadata": {}
        },
        {
          "output_type": "display_data",
          "data": {
            "text/html": [
              "<style>\n",
              ".list-inline {list-style: none; margin:0; padding: 0}\n",
              ".list-inline>li {display: inline-block}\n",
              ".list-inline>li:not(:last-child)::after {content: \"\\00b7\"; padding: 0 .5ex}\n",
              "</style>\n",
              "<ol class=list-inline><li>'Apple'</li><li>'Mango'</li><li>'Orange'</li></ol>\n"
            ],
            "text/markdown": "1. 'Apple'\n2. 'Mango'\n3. 'Orange'\n\n\n",
            "text/latex": "\\begin{enumerate*}\n\\item 'Apple'\n\\item 'Mango'\n\\item 'Orange'\n\\end{enumerate*}\n",
            "text/plain": [
              "[1] \"Apple\"  \"Mango\"  \"Orange\""
            ]
          },
          "metadata": {}
        },
        {
          "output_type": "display_data",
          "data": {
            "text/html": [
              "<style>\n",
              ".list-inline {list-style: none; margin:0; padding: 0}\n",
              ".list-inline>li {display: inline-block}\n",
              ".list-inline>li:not(:last-child)::after {content: \"\\00b7\"; padding: 0 .5ex}\n",
              "</style>\n",
              "<ol class=list-inline><li>100</li><li>50</li><li>70</li></ol>\n"
            ],
            "text/markdown": "1. 100\n2. 50\n3. 70\n\n\n",
            "text/latex": "\\begin{enumerate*}\n\\item 100\n\\item 50\n\\item 70\n\\end{enumerate*}\n",
            "text/plain": [
              "[1] 100  50  70"
            ]
          },
          "metadata": {}
        }
      ]
    },
    {
      "cell_type": "markdown",
      "source": [
        "Inbuilt functions"
      ],
      "metadata": {
        "id": "RzMKuZ3eHmZY"
      }
    },
    {
      "cell_type": "code",
      "source": [
        "str(fruit) # structure\n",
        "head(fruit) # first 6 records\n",
        "head(fruit,n=1)\n",
        "tail(fruit,n=1) # last 1 records only tail() gives you last 6 records\n",
        "table(fruit$Fruit_name)  # shows frequency\n",
        "min(fruit$Fruit_Cost)\n",
        "max(fruit$Fruit_Cost)\n",
        "mean(fruit$Fruit_Cost) # average\n",
        "range(fruit$Fruit_Cost) # min,max values"
      ],
      "metadata": {
        "colab": {
          "base_uri": "https://localhost:8080/",
          "height": 590
        },
        "id": "7S-yhFzdHND_",
        "outputId": "71c11aca-860f-4657-e20f-4bd150472a1c"
      },
      "execution_count": null,
      "outputs": [
        {
          "output_type": "stream",
          "name": "stdout",
          "text": [
            "'data.frame':\t3 obs. of  2 variables:\n",
            " $ Fruit_name: chr  \"Apple\" \"Mango\" \"Orange\"\n",
            " $ Fruit_Cost: num  100 50 70\n"
          ]
        },
        {
          "output_type": "display_data",
          "data": {
            "text/html": [
              "<table class=\"dataframe\">\n",
              "<caption>A data.frame: 3 × 2</caption>\n",
              "<thead>\n",
              "\t<tr><th></th><th scope=col>Fruit_name</th><th scope=col>Fruit_Cost</th></tr>\n",
              "\t<tr><th></th><th scope=col>&lt;chr&gt;</th><th scope=col>&lt;dbl&gt;</th></tr>\n",
              "</thead>\n",
              "<tbody>\n",
              "\t<tr><th scope=row>1</th><td>Apple </td><td>100</td></tr>\n",
              "\t<tr><th scope=row>2</th><td>Mango </td><td> 50</td></tr>\n",
              "\t<tr><th scope=row>3</th><td>Orange</td><td> 70</td></tr>\n",
              "</tbody>\n",
              "</table>\n"
            ],
            "text/markdown": "\nA data.frame: 3 × 2\n\n| <!--/--> | Fruit_name &lt;chr&gt; | Fruit_Cost &lt;dbl&gt; |\n|---|---|---|\n| 1 | Apple  | 100 |\n| 2 | Mango  |  50 |\n| 3 | Orange |  70 |\n\n",
            "text/latex": "A data.frame: 3 × 2\n\\begin{tabular}{r|ll}\n  & Fruit\\_name & Fruit\\_Cost\\\\\n  & <chr> & <dbl>\\\\\n\\hline\n\t1 & Apple  & 100\\\\\n\t2 & Mango  &  50\\\\\n\t3 & Orange &  70\\\\\n\\end{tabular}\n",
            "text/plain": [
              "  Fruit_name Fruit_Cost\n",
              "1 Apple      100       \n",
              "2 Mango       50       \n",
              "3 Orange      70       "
            ]
          },
          "metadata": {}
        },
        {
          "output_type": "display_data",
          "data": {
            "text/html": [
              "<table class=\"dataframe\">\n",
              "<caption>A data.frame: 1 × 2</caption>\n",
              "<thead>\n",
              "\t<tr><th></th><th scope=col>Fruit_name</th><th scope=col>Fruit_Cost</th></tr>\n",
              "\t<tr><th></th><th scope=col>&lt;chr&gt;</th><th scope=col>&lt;dbl&gt;</th></tr>\n",
              "</thead>\n",
              "<tbody>\n",
              "\t<tr><th scope=row>1</th><td>Apple</td><td>100</td></tr>\n",
              "</tbody>\n",
              "</table>\n"
            ],
            "text/markdown": "\nA data.frame: 1 × 2\n\n| <!--/--> | Fruit_name &lt;chr&gt; | Fruit_Cost &lt;dbl&gt; |\n|---|---|---|\n| 1 | Apple | 100 |\n\n",
            "text/latex": "A data.frame: 1 × 2\n\\begin{tabular}{r|ll}\n  & Fruit\\_name & Fruit\\_Cost\\\\\n  & <chr> & <dbl>\\\\\n\\hline\n\t1 & Apple & 100\\\\\n\\end{tabular}\n",
            "text/plain": [
              "  Fruit_name Fruit_Cost\n",
              "1 Apple      100       "
            ]
          },
          "metadata": {}
        },
        {
          "output_type": "display_data",
          "data": {
            "text/html": [
              "<table class=\"dataframe\">\n",
              "<caption>A data.frame: 1 × 2</caption>\n",
              "<thead>\n",
              "\t<tr><th></th><th scope=col>Fruit_name</th><th scope=col>Fruit_Cost</th></tr>\n",
              "\t<tr><th></th><th scope=col>&lt;chr&gt;</th><th scope=col>&lt;dbl&gt;</th></tr>\n",
              "</thead>\n",
              "<tbody>\n",
              "\t<tr><th scope=row>3</th><td>Orange</td><td>70</td></tr>\n",
              "</tbody>\n",
              "</table>\n"
            ],
            "text/markdown": "\nA data.frame: 1 × 2\n\n| <!--/--> | Fruit_name &lt;chr&gt; | Fruit_Cost &lt;dbl&gt; |\n|---|---|---|\n| 3 | Orange | 70 |\n\n",
            "text/latex": "A data.frame: 1 × 2\n\\begin{tabular}{r|ll}\n  & Fruit\\_name & Fruit\\_Cost\\\\\n  & <chr> & <dbl>\\\\\n\\hline\n\t3 & Orange & 70\\\\\n\\end{tabular}\n",
            "text/plain": [
              "  Fruit_name Fruit_Cost\n",
              "3 Orange     70        "
            ]
          },
          "metadata": {}
        },
        {
          "output_type": "display_data",
          "data": {
            "text/plain": [
              "\n",
              " Apple  Mango Orange \n",
              "     1      1      1 "
            ]
          },
          "metadata": {}
        },
        {
          "output_type": "display_data",
          "data": {
            "text/html": [
              "50"
            ],
            "text/markdown": "50",
            "text/latex": "50",
            "text/plain": [
              "[1] 50"
            ]
          },
          "metadata": {}
        },
        {
          "output_type": "display_data",
          "data": {
            "text/html": [
              "100"
            ],
            "text/markdown": "100",
            "text/latex": "100",
            "text/plain": [
              "[1] 100"
            ]
          },
          "metadata": {}
        },
        {
          "output_type": "display_data",
          "data": {
            "text/html": [
              "73.3333333333333"
            ],
            "text/markdown": "73.3333333333333",
            "text/latex": "73.3333333333333",
            "text/plain": [
              "[1] 73.33333"
            ]
          },
          "metadata": {}
        },
        {
          "output_type": "display_data",
          "data": {
            "text/html": [
              "<style>\n",
              ".list-inline {list-style: none; margin:0; padding: 0}\n",
              ".list-inline>li {display: inline-block}\n",
              ".list-inline>li:not(:last-child)::after {content: \"\\00b7\"; padding: 0 .5ex}\n",
              "</style>\n",
              "<ol class=list-inline><li>50</li><li>100</li></ol>\n"
            ],
            "text/markdown": "1. 50\n2. 100\n\n\n",
            "text/latex": "\\begin{enumerate*}\n\\item 50\n\\item 100\n\\end{enumerate*}\n",
            "text/plain": [
              "[1]  50 100"
            ]
          },
          "metadata": {}
        }
      ]
    },
    {
      "cell_type": "markdown",
      "source": [
        "Condition Statements"
      ],
      "metadata": {
        "id": "o3OdwS44JK2c"
      }
    },
    {
      "cell_type": "code",
      "source": [
        "if (fruit$Fruit_Cost[1]>4) {\n",
        "  print(\"The Apple is Greater than 4\")\n",
        "}\n",
        "else(\n",
        "  print(\"The Apple is Lower than 4\")\n",
        ")"
      ],
      "metadata": {
        "colab": {
          "base_uri": "https://localhost:8080/"
        },
        "id": "3aFYshaLH34F",
        "outputId": "d97cecdd-8c5a-493a-ff12-d8cf25913d29"
      },
      "execution_count": null,
      "outputs": [
        {
          "output_type": "stream",
          "name": "stdout",
          "text": [
            "[1] \"The Apple is Greater than 4\"\n"
          ]
        }
      ]
    },
    {
      "cell_type": "markdown",
      "source": [
        "Looping Statements"
      ],
      "metadata": {
        "id": "pk9UEflIJ8qq"
      }
    },
    {
      "cell_type": "code",
      "source": [
        "vec1 = 1:9\n",
        "vec1\n",
        "# for loop\n",
        "for(i in vec1){\n",
        "  print(i+5)\n",
        "}\n",
        "# while loop\n",
        "i=1\n",
        "while (i<9){\n",
        "  print(i+3)\n",
        "  i=i+1\n",
        "}"
      ],
      "metadata": {
        "colab": {
          "base_uri": "https://localhost:8080/",
          "height": 329
        },
        "id": "VIWxZx8dJbOe",
        "outputId": "c24793e7-0084-4987-a88e-a62c34d0684d"
      },
      "execution_count": null,
      "outputs": [
        {
          "output_type": "display_data",
          "data": {
            "text/html": [
              "<style>\n",
              ".list-inline {list-style: none; margin:0; padding: 0}\n",
              ".list-inline>li {display: inline-block}\n",
              ".list-inline>li:not(:last-child)::after {content: \"\\00b7\"; padding: 0 .5ex}\n",
              "</style>\n",
              "<ol class=list-inline><li>1</li><li>2</li><li>3</li><li>4</li><li>5</li><li>6</li><li>7</li><li>8</li><li>9</li></ol>\n"
            ],
            "text/markdown": "1. 1\n2. 2\n3. 3\n4. 4\n5. 5\n6. 6\n7. 7\n8. 8\n9. 9\n\n\n",
            "text/latex": "\\begin{enumerate*}\n\\item 1\n\\item 2\n\\item 3\n\\item 4\n\\item 5\n\\item 6\n\\item 7\n\\item 8\n\\item 9\n\\end{enumerate*}\n",
            "text/plain": [
              "[1] 1 2 3 4 5 6 7 8 9"
            ]
          },
          "metadata": {}
        },
        {
          "output_type": "stream",
          "name": "stdout",
          "text": [
            "[1] 6\n",
            "[1] 7\n",
            "[1] 8\n",
            "[1] 9\n",
            "[1] 10\n",
            "[1] 11\n",
            "[1] 12\n",
            "[1] 13\n",
            "[1] 14\n",
            "[1] 4\n",
            "[1] 5\n",
            "[1] 6\n",
            "[1] 7\n",
            "[1] 8\n",
            "[1] 9\n",
            "[1] 10\n",
            "[1] 11\n"
          ]
        }
      ]
    },
    {
      "cell_type": "markdown",
      "source": [
        "Functions in R"
      ],
      "metadata": {
        "id": "NXsoZqPEKviv"
      }
    },
    {
      "cell_type": "code",
      "source": [
        "add5 = function(x){\n",
        "  print(x+5)\n",
        "}\n",
        "add5(1)"
      ],
      "metadata": {
        "colab": {
          "base_uri": "https://localhost:8080/"
        },
        "id": "7aJ9jTVCKNg0",
        "outputId": "77376655-a483-4689-9a13-d445ee100de9"
      },
      "execution_count": null,
      "outputs": [
        {
          "output_type": "stream",
          "name": "stdout",
          "text": [
            "[1] 6\n"
          ]
        }
      ]
    },
    {
      "cell_type": "markdown",
      "source": [
        "Data Visuialisation"
      ],
      "metadata": {
        "id": "PGwwHc05Mvx3"
      }
    },
    {
      "cell_type": "code",
      "source": [
        "# Pie Chart\n",
        "pie(fruit$Fruit_Cost,\n",
        "    labels= fruit$Fruit_name,\n",
        "    main=\"Fruit Cost Distribution\",\n",
        "    col=rainbow(length(fruit$Fruit_Cost))\n",
        ")"
      ],
      "metadata": {
        "colab": {
          "base_uri": "https://localhost:8080/",
          "height": 437
        },
        "id": "uTnnUmhhMvRR",
        "outputId": "8c6dd8be-a4cd-4fa1-a5ad-726bd1e1c932"
      },
      "execution_count": null,
      "outputs": [
        {
          "output_type": "display_data",
          "data": {
            "text/plain": [
              "Plot with title “Fruit Cost Distribution”"
            ],
            "image/png": "[encoded data removed]"
          },
          "metadata": {
            "image/png": {
              "width": 420,
              "height": 420
            }
          }
        }
      ]
    },
    {
      "cell_type": "code",
      "source": [
        "library(ggplot2)  # install.packages(\"ggplot2\") run chesina tarvatha idhi run cheste we will get a output like this and run this in a seperate cell\n",
        "ggplot(fruit , aes(x=\"\" , y= Fruit_Cost, fill = Fruit_name)) + geom_bar(width =1 , stat= \"identity\") + coord_polar(theta=\"y\") + labs(title=\"Fruit Cost Distribution\") + theme_void()"
      ],
      "metadata": {
        "colab": {
          "base_uri": "https://localhost:8080/",
          "height": 437
        },
        "id": "DQbZ9zy1NdfT",
        "outputId": "c7f48ee0-6067-42e1-d479-526614fa6201"
      },
      "execution_count": null,
      "outputs": [
        {
          "output_type": "display_data",
          "data": {
            "text/plain": [
              "plot without title"
            ],
            "image/png": "[encoded data removed]"
          },
          "metadata": {
            "image/png": {
              "width": 420,
              "height": 420
            }
          }
        }
      ]
    },
    {
      "cell_type": "markdown",
      "source": [
        "Debugging and Error Handling"
      ],
      "metadata": {
        "id": "kD6dA0Nvf_G0"
      }
    },
    {
      "cell_type": "code",
      "source": [
        "tryCatch(10+10)\n",
        "tryCatch('a'+10 , error =function(e) print(\"Error\"))\n",
        "\n",
        "tryCatch(\n",
        "  for ( i in 1:3){\n",
        "    print(i+'a')\n",
        "  }\n",
        "  ,error=function(e) print(\"Found error\")\n",
        ")\n",
        "# Warning Message\n",
        "tryCatch(\n",
        "  as.integer(\"A\"),\n",
        "  warning = function(e) print(\"Warning\")\n",
        ")"
      ],
      "metadata": {
        "id": "XCSadUJwOkSV",
        "colab": {
          "base_uri": "https://localhost:8080/",
          "height": 86
        },
        "outputId": "703f6f40-ad64-4a62-8ec9-00ffbfc268eb"
      },
      "execution_count": null,
      "outputs": [
        {
          "output_type": "display_data",
          "data": {
            "text/html": [
              "20"
            ],
            "text/markdown": "20",
            "text/latex": "20",
            "text/plain": [
              "[1] 20"
            ]
          },
          "metadata": {}
        },
        {
          "output_type": "stream",
          "name": "stdout",
          "text": [
            "[1] \"Error\"\n",
            "[1] \"Found error\"\n",
            "[1] \"Warning\"\n"
          ]
        }
      ]
    }
  ]
}